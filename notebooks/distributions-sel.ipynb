{
 "cells": [
  {
   "cell_type": "markdown",
   "metadata": {},
   "source": [
    "# Comparison of Distributions and Repository Selection\n",
    "\n",
    "This project compares the distribution (stars, age, etc.) of DS repos and Non-DS repos, and selects the final repo ids to include in each set for the rest of the analysis.\n",
    "\n",
    "Dependencies:\n",
    "* analyse_py_ver notebook (`ds_version_tab.csv`, `nonds_version_tab.csv`)\n",
    "\n",
    "Inputs:\n",
    "* `github_api.csv` (for boa DS repos, and non-DS repos)\n",
    "\n",
    "Outputs:\n",
    "* `ds_selected.csv`, `nonds_selected.csv`"
   ]
  },
  {
   "cell_type": "code",
   "execution_count": 1,
   "metadata": {},
   "outputs": [],
   "source": [
    "import numpy as np\n",
    "import pandas as pd\n",
    "import matplotlib.pyplot as plt\n",
    "from scipy import stats\n",
    "from os.path import join"
   ]
  },
  {
   "cell_type": "code",
   "execution_count": 2,
   "metadata": {},
   "outputs": [],
   "source": [
    "DATA_DIR = \"../output/\"\n",
    "NB_OUT = join(DATA_DIR, \"notebooks_out\")"
   ]
  },
  {
   "cell_type": "code",
   "execution_count": 3,
   "metadata": {},
   "outputs": [],
   "source": [
    "ds = pd.read_csv(\"../data/boa/github_api.csv\", parse_dates=['created_at', 'updated_at', 'pushed_at'])"
   ]
  },
  {
   "cell_type": "code",
   "execution_count": 4,
   "metadata": {},
   "outputs": [],
   "source": [
    "ds_version_tab = pd.read_csv(join(NB_OUT, \"ds_version_tab.csv\"))\n",
    "ds = ds.merge(ds_version_tab, how='right', left_on=['id'], right_on=['repo'])\n",
    "ds = ds[ds[\"select\"]]"
   ]
  },
  {
   "cell_type": "code",
   "execution_count": 5,
   "metadata": {},
   "outputs": [],
   "source": [
    "ds[\"age\"] = (ds[\"pushed_at\"] - ds[\"created_at\"]) / pd.to_timedelta('1 day')"
   ]
  },
  {
   "cell_type": "code",
   "execution_count": 6,
   "metadata": {},
   "outputs": [
    {
     "data": {
      "text/plain": [
       "count    1049.000000\n",
       "mean      738.959884\n",
       "std       536.991999\n",
       "min         0.000845\n",
       "25%       367.093125\n",
       "50%       684.832025\n",
       "75%       972.859086\n",
       "max      3953.132014\n",
       "Name: age, dtype: float64"
      ]
     },
     "execution_count": 6,
     "metadata": {},
     "output_type": "execute_result"
    }
   ],
   "source": [
    "ds[\"age\"].describe()"
   ]
  },
  {
   "cell_type": "code",
   "execution_count": 7,
   "metadata": {},
   "outputs": [],
   "source": [
    "nonds = pd.read_csv(\"../data/non-data-science/github_api.csv\", parse_dates=['created_at', 'updated_at', 'pushed_at'])"
   ]
  },
  {
   "cell_type": "code",
   "execution_count": 8,
   "metadata": {},
   "outputs": [],
   "source": [
    "nonds_version_tab = pd.read_csv(join(NB_OUT, \"nonds_version_tab.csv\"))\n",
    "nonds = nonds.merge(nonds_version_tab, how='right', left_on=['id'], right_on=['repo'])\n",
    "nonds = nonds[nonds[\"select\"]]"
   ]
  },
  {
   "cell_type": "code",
   "execution_count": 9,
   "metadata": {},
   "outputs": [
    {
     "data": {
      "text/plain": [
       "(1751, 23)"
      ]
     },
     "execution_count": 9,
     "metadata": {},
     "output_type": "execute_result"
    }
   ],
   "source": [
    "nonds.shape"
   ]
  },
  {
   "cell_type": "code",
   "execution_count": 10,
   "metadata": {},
   "outputs": [],
   "source": [
    "dups = set(nonds['id']) & set(ds['id'])"
   ]
  },
  {
   "cell_type": "code",
   "execution_count": 11,
   "metadata": {},
   "outputs": [
    {
     "data": {
      "text/plain": [
       "{45234875,\n",
       " 46626681,\n",
       " 57161533,\n",
       " 61362743,\n",
       " 61609586,\n",
       " 63605558,\n",
       " 68609247,\n",
       " 70118622,\n",
       " 70908208,\n",
       " 70934951,\n",
       " 71932349,\n",
       " 74622643,\n",
       " 76228721,\n",
       " 77440857,\n",
       " 77765629,\n",
       " 77904282,\n",
       " 79006723,\n",
       " 79404479,\n",
       " 81608592,\n",
       " 81784084,\n",
       " 84209477,\n",
       " 88441301,\n",
       " 92446304,\n",
       " 101607701,\n",
       " 103471501,\n",
       " 103934044,\n",
       " 122806629}"
      ]
     },
     "execution_count": 11,
     "metadata": {},
     "output_type": "execute_result"
    }
   ],
   "source": [
    "dups"
   ]
  },
  {
   "cell_type": "code",
   "execution_count": 12,
   "metadata": {},
   "outputs": [],
   "source": [
    "nonds = nonds[~nonds['id'].isin(dups)]"
   ]
  },
  {
   "cell_type": "code",
   "execution_count": 13,
   "metadata": {},
   "outputs": [
    {
     "data": {
      "text/plain": [
       "(1724, 23)"
      ]
     },
     "execution_count": 13,
     "metadata": {},
     "output_type": "execute_result"
    }
   ],
   "source": [
    "nonds.shape"
   ]
  },
  {
   "cell_type": "code",
   "execution_count": 14,
   "metadata": {},
   "outputs": [],
   "source": [
    "nonds[\"age\"] = (nonds[\"pushed_at\"] - nonds[\"created_at\"]) / pd.to_timedelta('1 day')"
   ]
  },
  {
   "cell_type": "code",
   "execution_count": 15,
   "metadata": {},
   "outputs": [
    {
     "data": {
      "text/plain": [
       "count    1724.000000\n",
       "mean      973.242059\n",
       "std       489.156851\n",
       "min      -392.995961\n",
       "25%       643.727188\n",
       "50%      1042.548906\n",
       "75%      1384.597080\n",
       "max      1714.908426\n",
       "Name: age, dtype: float64"
      ]
     },
     "execution_count": 15,
     "metadata": {},
     "output_type": "execute_result"
    }
   ],
   "source": [
    "nonds[\"age\"].describe()"
   ]
  },
  {
   "cell_type": "code",
   "execution_count": 16,
   "metadata": {},
   "outputs": [
    {
     "data": {
      "text/html": [
       "<div>\n",
       "<style scoped>\n",
       "    .dataframe tbody tr th:only-of-type {\n",
       "        vertical-align: middle;\n",
       "    }\n",
       "\n",
       "    .dataframe tbody tr th {\n",
       "        vertical-align: top;\n",
       "    }\n",
       "\n",
       "    .dataframe thead th {\n",
       "        text-align: right;\n",
       "    }\n",
       "</style>\n",
       "<table border=\"1\" class=\"dataframe\">\n",
       "  <thead>\n",
       "    <tr style=\"text-align: right;\">\n",
       "      <th></th>\n",
       "      <th>id</th>\n",
       "      <th>name</th>\n",
       "      <th>full_name</th>\n",
       "      <th>url</th>\n",
       "      <th>html_url</th>\n",
       "      <th>stars</th>\n",
       "      <th>created_at</th>\n",
       "      <th>updated_at</th>\n",
       "      <th>pushed_at</th>\n",
       "      <th>size</th>\n",
       "      <th>...</th>\n",
       "      <th>description</th>\n",
       "      <th>number_of_contributors</th>\n",
       "      <th>repo</th>\n",
       "      <th>either</th>\n",
       "      <th>neither</th>\n",
       "      <th>python2</th>\n",
       "      <th>python3</th>\n",
       "      <th>summary</th>\n",
       "      <th>select</th>\n",
       "      <th>age</th>\n",
       "    </tr>\n",
       "  </thead>\n",
       "  <tbody>\n",
       "    <tr>\n",
       "      <th>411</th>\n",
       "      <td>222271895</td>\n",
       "      <td>assertpy</td>\n",
       "      <td>ActivisionGameScience/assertpy</td>\n",
       "      <td>https://api.github.com/repos/ActivisionGameSci...</td>\n",
       "      <td>https://github.com/ActivisionGameScience/assertpy</td>\n",
       "      <td>7</td>\n",
       "      <td>2019-11-17 15:47:15+00:00</td>\n",
       "      <td>2020-02-11 18:48:58+00:00</td>\n",
       "      <td>2019-11-09 12:14:38+00:00</td>\n",
       "      <td>476</td>\n",
       "      <td>...</td>\n",
       "      <td>Simple assertion library for unit testing in p...</td>\n",
       "      <td>8</td>\n",
       "      <td>222271895</td>\n",
       "      <td>46.0</td>\n",
       "      <td>0.0</td>\n",
       "      <td>0.0</td>\n",
       "      <td>0.0</td>\n",
       "      <td>either</td>\n",
       "      <td>True</td>\n",
       "      <td>-8.147650</td>\n",
       "    </tr>\n",
       "    <tr>\n",
       "      <th>1144</th>\n",
       "      <td>124575530</td>\n",
       "      <td>openFEC</td>\n",
       "      <td>18F/openFEC</td>\n",
       "      <td>https://api.github.com/repos/18F/openFEC</td>\n",
       "      <td>https://github.com/18F/openFEC</td>\n",
       "      <td>4</td>\n",
       "      <td>2018-03-09 18:00:20+00:00</td>\n",
       "      <td>2020-01-18 20:35:05+00:00</td>\n",
       "      <td>2018-03-09 17:24:06+00:00</td>\n",
       "      <td>385360</td>\n",
       "      <td>...</td>\n",
       "      <td>MOVED TO:https://github.com/fecgov/openFEC</td>\n",
       "      <td>30</td>\n",
       "      <td>124575530</td>\n",
       "      <td>103.0</td>\n",
       "      <td>0.0</td>\n",
       "      <td>0.0</td>\n",
       "      <td>3.0</td>\n",
       "      <td>only3</td>\n",
       "      <td>True</td>\n",
       "      <td>-0.025162</td>\n",
       "    </tr>\n",
       "    <tr>\n",
       "      <th>1358</th>\n",
       "      <td>91115384</td>\n",
       "      <td>celery-once</td>\n",
       "      <td>TrackMaven/celery-once</td>\n",
       "      <td>https://api.github.com/repos/TrackMaven/celery...</td>\n",
       "      <td>https://github.com/TrackMaven/celery-once</td>\n",
       "      <td>15</td>\n",
       "      <td>2017-05-12 17:39:08+00:00</td>\n",
       "      <td>2020-02-26 11:54:40+00:00</td>\n",
       "      <td>2016-04-14 17:44:57+00:00</td>\n",
       "      <td>455</td>\n",
       "      <td>...</td>\n",
       "      <td>Celery Once allows you to prevent multiple exe...</td>\n",
       "      <td>6</td>\n",
       "      <td>91115384</td>\n",
       "      <td>9.0</td>\n",
       "      <td>0.0</td>\n",
       "      <td>0.0</td>\n",
       "      <td>0.0</td>\n",
       "      <td>either</td>\n",
       "      <td>True</td>\n",
       "      <td>-392.995961</td>\n",
       "    </tr>\n",
       "    <tr>\n",
       "      <th>1372</th>\n",
       "      <td>149551898</td>\n",
       "      <td>flare-game</td>\n",
       "      <td>clintbellanger/flare-game</td>\n",
       "      <td>https://api.github.com/repos/clintbellanger/fl...</td>\n",
       "      <td>https://github.com/clintbellanger/flare-game</td>\n",
       "      <td>22</td>\n",
       "      <td>2018-09-20 04:37:30+00:00</td>\n",
       "      <td>2020-02-21 14:47:38+00:00</td>\n",
       "      <td>2018-09-17 20:30:00+00:00</td>\n",
       "      <td>848988</td>\n",
       "      <td>...</td>\n",
       "      <td>Fantasy action RPG using the FLARE engine</td>\n",
       "      <td>30</td>\n",
       "      <td>149551898</td>\n",
       "      <td>4.0</td>\n",
       "      <td>0.0</td>\n",
       "      <td>0.0</td>\n",
       "      <td>0.0</td>\n",
       "      <td>either</td>\n",
       "      <td>True</td>\n",
       "      <td>-2.338542</td>\n",
       "    </tr>\n",
       "    <tr>\n",
       "      <th>1383</th>\n",
       "      <td>110242469</td>\n",
       "      <td>pyusb</td>\n",
       "      <td>walac/pyusb</td>\n",
       "      <td>https://api.github.com/repos/walac/pyusb</td>\n",
       "      <td>https://github.com/walac/pyusb</td>\n",
       "      <td>78</td>\n",
       "      <td>2017-11-10 12:01:29+00:00</td>\n",
       "      <td>2020-02-29 02:28:50+00:00</td>\n",
       "      <td>2017-11-10 11:25:49+00:00</td>\n",
       "      <td>976</td>\n",
       "      <td>...</td>\n",
       "      <td>USB access on python</td>\n",
       "      <td>30</td>\n",
       "      <td>110242469</td>\n",
       "      <td>25.0</td>\n",
       "      <td>0.0</td>\n",
       "      <td>0.0</td>\n",
       "      <td>0.0</td>\n",
       "      <td>either</td>\n",
       "      <td>True</td>\n",
       "      <td>-0.024769</td>\n",
       "    </tr>\n",
       "    <tr>\n",
       "      <th>1718</th>\n",
       "      <td>209307698</td>\n",
       "      <td>check_mk_frank-fegert</td>\n",
       "      <td>HeinleinSupport/check_mk_frank-fegert</td>\n",
       "      <td>https://api.github.com/repos/HeinleinSupport/c...</td>\n",
       "      <td>https://github.com/HeinleinSupport/check_mk_fr...</td>\n",
       "      <td>1</td>\n",
       "      <td>2019-09-18 12:51:54+00:00</td>\n",
       "      <td>2020-01-08 12:59:19+00:00</td>\n",
       "      <td>2019-02-24 14:51:16+00:00</td>\n",
       "      <td>235</td>\n",
       "      <td>...</td>\n",
       "      <td>checkmk extensions from frank-fegert</td>\n",
       "      <td>1</td>\n",
       "      <td>209307698</td>\n",
       "      <td>29.0</td>\n",
       "      <td>0.0</td>\n",
       "      <td>0.0</td>\n",
       "      <td>0.0</td>\n",
       "      <td>either</td>\n",
       "      <td>True</td>\n",
       "      <td>-205.917106</td>\n",
       "    </tr>\n",
       "    <tr>\n",
       "      <th>2052</th>\n",
       "      <td>92822405</td>\n",
       "      <td>sentinelsat</td>\n",
       "      <td>cenima-ibama/sentinelsat</td>\n",
       "      <td>https://api.github.com/repos/cenima-ibama/sent...</td>\n",
       "      <td>https://github.com/cenima-ibama/sentinelsat</td>\n",
       "      <td>13</td>\n",
       "      <td>2017-05-30 10:37:47+00:00</td>\n",
       "      <td>2020-03-03 19:21:55+00:00</td>\n",
       "      <td>2017-05-29 12:08:22+00:00</td>\n",
       "      <td>1797</td>\n",
       "      <td>...</td>\n",
       "      <td>Utility to access the API of Copernicus Sentin...</td>\n",
       "      <td>6</td>\n",
       "      <td>92822405</td>\n",
       "      <td>11.0</td>\n",
       "      <td>0.0</td>\n",
       "      <td>0.0</td>\n",
       "      <td>0.0</td>\n",
       "      <td>either</td>\n",
       "      <td>True</td>\n",
       "      <td>-0.937095</td>\n",
       "    </tr>\n",
       "    <tr>\n",
       "      <th>2224</th>\n",
       "      <td>207705426</td>\n",
       "      <td>calc</td>\n",
       "      <td>18F/calc</td>\n",
       "      <td>https://api.github.com/repos/18F/calc</td>\n",
       "      <td>https://github.com/18F/calc</td>\n",
       "      <td>1</td>\n",
       "      <td>2019-09-11 02:28:56+00:00</td>\n",
       "      <td>2020-02-29 10:22:50+00:00</td>\n",
       "      <td>2019-09-09 19:45:08+00:00</td>\n",
       "      <td>35195</td>\n",
       "      <td>...</td>\n",
       "      <td>An estimator for hourly rates on professional ...</td>\n",
       "      <td>29</td>\n",
       "      <td>207705426</td>\n",
       "      <td>207.0</td>\n",
       "      <td>0.0</td>\n",
       "      <td>0.0</td>\n",
       "      <td>56.0</td>\n",
       "      <td>only3</td>\n",
       "      <td>True</td>\n",
       "      <td>-1.280417</td>\n",
       "    </tr>\n",
       "    <tr>\n",
       "      <th>2415</th>\n",
       "      <td>241142684</td>\n",
       "      <td>pg_activity_fork</td>\n",
       "      <td>julmon/pg_activity_fork</td>\n",
       "      <td>https://api.github.com/repos/julmon/pg_activit...</td>\n",
       "      <td>https://github.com/julmon/pg_activity_fork</td>\n",
       "      <td>1</td>\n",
       "      <td>2020-02-17 15:33:13+00:00</td>\n",
       "      <td>2020-02-25 13:57:20+00:00</td>\n",
       "      <td>2020-02-15 07:01:25+00:00</td>\n",
       "      <td>1226</td>\n",
       "      <td>...</td>\n",
       "      <td>WARNING: Personal fork. pg_activity repository...</td>\n",
       "      <td>22</td>\n",
       "      <td>241142684</td>\n",
       "      <td>5.0</td>\n",
       "      <td>0.0</td>\n",
       "      <td>0.0</td>\n",
       "      <td>0.0</td>\n",
       "      <td>either</td>\n",
       "      <td>True</td>\n",
       "      <td>-2.355417</td>\n",
       "    </tr>\n",
       "  </tbody>\n",
       "</table>\n",
       "<p>9 rows × 24 columns</p>\n",
       "</div>"
      ],
      "text/plain": [
       "             id                   name                              full_name  \\\n",
       "411   222271895               assertpy         ActivisionGameScience/assertpy   \n",
       "1144  124575530                openFEC                            18F/openFEC   \n",
       "1358   91115384            celery-once                 TrackMaven/celery-once   \n",
       "1372  149551898             flare-game              clintbellanger/flare-game   \n",
       "1383  110242469                  pyusb                            walac/pyusb   \n",
       "1718  209307698  check_mk_frank-fegert  HeinleinSupport/check_mk_frank-fegert   \n",
       "2052   92822405            sentinelsat               cenima-ibama/sentinelsat   \n",
       "2224  207705426                   calc                               18F/calc   \n",
       "2415  241142684       pg_activity_fork                julmon/pg_activity_fork   \n",
       "\n",
       "                                                    url  \\\n",
       "411   https://api.github.com/repos/ActivisionGameSci...   \n",
       "1144           https://api.github.com/repos/18F/openFEC   \n",
       "1358  https://api.github.com/repos/TrackMaven/celery...   \n",
       "1372  https://api.github.com/repos/clintbellanger/fl...   \n",
       "1383           https://api.github.com/repos/walac/pyusb   \n",
       "1718  https://api.github.com/repos/HeinleinSupport/c...   \n",
       "2052  https://api.github.com/repos/cenima-ibama/sent...   \n",
       "2224              https://api.github.com/repos/18F/calc   \n",
       "2415  https://api.github.com/repos/julmon/pg_activit...   \n",
       "\n",
       "                                               html_url  stars  \\\n",
       "411   https://github.com/ActivisionGameScience/assertpy      7   \n",
       "1144                     https://github.com/18F/openFEC      4   \n",
       "1358          https://github.com/TrackMaven/celery-once     15   \n",
       "1372       https://github.com/clintbellanger/flare-game     22   \n",
       "1383                     https://github.com/walac/pyusb     78   \n",
       "1718  https://github.com/HeinleinSupport/check_mk_fr...      1   \n",
       "2052        https://github.com/cenima-ibama/sentinelsat     13   \n",
       "2224                        https://github.com/18F/calc      1   \n",
       "2415         https://github.com/julmon/pg_activity_fork      1   \n",
       "\n",
       "                    created_at                updated_at  \\\n",
       "411  2019-11-17 15:47:15+00:00 2020-02-11 18:48:58+00:00   \n",
       "1144 2018-03-09 18:00:20+00:00 2020-01-18 20:35:05+00:00   \n",
       "1358 2017-05-12 17:39:08+00:00 2020-02-26 11:54:40+00:00   \n",
       "1372 2018-09-20 04:37:30+00:00 2020-02-21 14:47:38+00:00   \n",
       "1383 2017-11-10 12:01:29+00:00 2020-02-29 02:28:50+00:00   \n",
       "1718 2019-09-18 12:51:54+00:00 2020-01-08 12:59:19+00:00   \n",
       "2052 2017-05-30 10:37:47+00:00 2020-03-03 19:21:55+00:00   \n",
       "2224 2019-09-11 02:28:56+00:00 2020-02-29 10:22:50+00:00   \n",
       "2415 2020-02-17 15:33:13+00:00 2020-02-25 13:57:20+00:00   \n",
       "\n",
       "                     pushed_at    size  ...  \\\n",
       "411  2019-11-09 12:14:38+00:00     476  ...   \n",
       "1144 2018-03-09 17:24:06+00:00  385360  ...   \n",
       "1358 2016-04-14 17:44:57+00:00     455  ...   \n",
       "1372 2018-09-17 20:30:00+00:00  848988  ...   \n",
       "1383 2017-11-10 11:25:49+00:00     976  ...   \n",
       "1718 2019-02-24 14:51:16+00:00     235  ...   \n",
       "2052 2017-05-29 12:08:22+00:00    1797  ...   \n",
       "2224 2019-09-09 19:45:08+00:00   35195  ...   \n",
       "2415 2020-02-15 07:01:25+00:00    1226  ...   \n",
       "\n",
       "                                            description  \\\n",
       "411   Simple assertion library for unit testing in p...   \n",
       "1144         MOVED TO:https://github.com/fecgov/openFEC   \n",
       "1358  Celery Once allows you to prevent multiple exe...   \n",
       "1372          Fantasy action RPG using the FLARE engine   \n",
       "1383                               USB access on python   \n",
       "1718               checkmk extensions from frank-fegert   \n",
       "2052  Utility to access the API of Copernicus Sentin...   \n",
       "2224  An estimator for hourly rates on professional ...   \n",
       "2415  WARNING: Personal fork. pg_activity repository...   \n",
       "\n",
       "      number_of_contributors       repo  either neither  python2  python3  \\\n",
       "411                        8  222271895    46.0     0.0      0.0      0.0   \n",
       "1144                      30  124575530   103.0     0.0      0.0      3.0   \n",
       "1358                       6   91115384     9.0     0.0      0.0      0.0   \n",
       "1372                      30  149551898     4.0     0.0      0.0      0.0   \n",
       "1383                      30  110242469    25.0     0.0      0.0      0.0   \n",
       "1718                       1  209307698    29.0     0.0      0.0      0.0   \n",
       "2052                       6   92822405    11.0     0.0      0.0      0.0   \n",
       "2224                      29  207705426   207.0     0.0      0.0     56.0   \n",
       "2415                      22  241142684     5.0     0.0      0.0      0.0   \n",
       "\n",
       "      summary  select         age  \n",
       "411    either    True   -8.147650  \n",
       "1144    only3    True   -0.025162  \n",
       "1358   either    True -392.995961  \n",
       "1372   either    True   -2.338542  \n",
       "1383   either    True   -0.024769  \n",
       "1718   either    True -205.917106  \n",
       "2052   either    True   -0.937095  \n",
       "2224    only3    True   -1.280417  \n",
       "2415   either    True   -2.355417  \n",
       "\n",
       "[9 rows x 24 columns]"
      ]
     },
     "execution_count": 16,
     "metadata": {},
     "output_type": "execute_result"
    }
   ],
   "source": [
    "nonds[nonds[\"age\"] < 0]"
   ]
  },
  {
   "cell_type": "markdown",
   "metadata": {},
   "source": [
    "Some non-DS repos had a negative age (i.e. repo reported as created on github prior to the first push). As these appear to be forks (which should have been excluded), we remove them from the analysis. "
   ]
  },
  {
   "cell_type": "code",
   "execution_count": 17,
   "metadata": {},
   "outputs": [],
   "source": [
    "nonds = nonds[nonds[\"age\"] >= 0]"
   ]
  },
  {
   "cell_type": "code",
   "execution_count": 18,
   "metadata": {},
   "outputs": [
    {
     "data": {
      "text/plain": [
       "count    1715.000000\n",
       "mean      978.707482\n",
       "std       484.474051\n",
       "min         0.000104\n",
       "25%       651.542569\n",
       "50%      1046.085648\n",
       "75%      1385.325608\n",
       "max      1714.908426\n",
       "Name: age, dtype: float64"
      ]
     },
     "execution_count": 18,
     "metadata": {},
     "output_type": "execute_result"
    }
   ],
   "source": [
    "nonds[\"age\"].describe()"
   ]
  },
  {
   "cell_type": "code",
   "execution_count": 19,
   "metadata": {},
   "outputs": [],
   "source": [
    "ds[\"id\"].to_csv(join(NB_OUT, \"ds_selected.csv\"), index=False)"
   ]
  },
  {
   "cell_type": "markdown",
   "metadata": {},
   "source": [
    "## Analyse Language"
   ]
  },
  {
   "cell_type": "code",
   "execution_count": 20,
   "metadata": {},
   "outputs": [
    {
     "data": {
      "text/plain": [
       "Python              0.981888\n",
       "Jupyter Notebook    0.010486\n",
       "HTML                0.001907\n",
       "JavaScript          0.001907\n",
       "Jsonnet             0.000953\n",
       "Perl                0.000953\n",
       "C++                 0.000953\n",
       "C#                  0.000953\n",
       "Name: language, dtype: float64"
      ]
     },
     "execution_count": 20,
     "metadata": {},
     "output_type": "execute_result"
    }
   ],
   "source": [
    "ds[\"language\"].value_counts() / ds.shape[0]"
   ]
  },
  {
   "cell_type": "code",
   "execution_count": 21,
   "metadata": {},
   "outputs": [
    {
     "data": {
      "text/plain": [
       "(1049, 24)"
      ]
     },
     "execution_count": 21,
     "metadata": {},
     "output_type": "execute_result"
    }
   ],
   "source": [
    "ds.shape"
   ]
  },
  {
   "cell_type": "code",
   "execution_count": 22,
   "metadata": {},
   "outputs": [
    {
     "data": {
      "text/plain": [
       "Python              0.939942\n",
       "Jupyter Notebook    0.015743\n",
       "JavaScript          0.010496\n",
       "HTML                0.006414\n",
       "Shell               0.005248\n",
       "C++                 0.002332\n",
       "C                   0.002332\n",
       "CSS                 0.001749\n",
       "Go                  0.001749\n",
       "Java                0.001166\n",
       "C#                  0.001166\n",
       "YARA                0.001166\n",
       "Smarty              0.000583\n",
       "PLpgSQL             0.000583\n",
       "Dockerfile          0.000583\n",
       "TeX                 0.000583\n",
       "Roff                0.000583\n",
       "Lua                 0.000583\n",
       "Rust                0.000583\n",
       "Vim script          0.000583\n",
       "PowerShell          0.000583\n",
       "Tcl                 0.000583\n",
       "PHP                 0.000583\n",
       "TypeScript          0.000583\n",
       "Kotlin              0.000583\n",
       "Name: language, dtype: float64"
      ]
     },
     "execution_count": 22,
     "metadata": {},
     "output_type": "execute_result"
    }
   ],
   "source": [
    "nonds[\"language\"].value_counts() / nonds.shape[0]"
   ]
  },
  {
   "cell_type": "markdown",
   "metadata": {},
   "source": [
    "## Select Recent"
   ]
  },
  {
   "cell_type": "code",
   "execution_count": 23,
   "metadata": {},
   "outputs": [
    {
     "data": {
      "text/plain": [
       "Timestamp('2016-01-01 00:00:00+0000', tz='UTC')"
      ]
     },
     "execution_count": 23,
     "metadata": {},
     "output_type": "execute_result"
    }
   ],
   "source": [
    "#created_thresh = pd.to_datetime('2015-07-01T00:00Z')\n",
    "created_thresh = pd.to_datetime('2016-01-01T00:00Z')\n",
    "created_thresh"
   ]
  },
  {
   "cell_type": "code",
   "execution_count": 24,
   "metadata": {},
   "outputs": [
    {
     "data": {
      "text/html": [
       "<div>\n",
       "<style scoped>\n",
       "    .dataframe tbody tr th:only-of-type {\n",
       "        vertical-align: middle;\n",
       "    }\n",
       "\n",
       "    .dataframe tbody tr th {\n",
       "        vertical-align: top;\n",
       "    }\n",
       "\n",
       "    .dataframe thead th {\n",
       "        text-align: right;\n",
       "    }\n",
       "</style>\n",
       "<table border=\"1\" class=\"dataframe\">\n",
       "  <thead>\n",
       "    <tr style=\"text-align: right;\">\n",
       "      <th></th>\n",
       "      <th>id</th>\n",
       "      <th>name</th>\n",
       "      <th>full_name</th>\n",
       "      <th>url</th>\n",
       "      <th>html_url</th>\n",
       "      <th>stars</th>\n",
       "      <th>created_at</th>\n",
       "      <th>updated_at</th>\n",
       "      <th>pushed_at</th>\n",
       "      <th>size</th>\n",
       "      <th>...</th>\n",
       "      <th>description</th>\n",
       "      <th>number_of_contributors</th>\n",
       "      <th>repo</th>\n",
       "      <th>either</th>\n",
       "      <th>neither</th>\n",
       "      <th>python2</th>\n",
       "      <th>python3</th>\n",
       "      <th>summary</th>\n",
       "      <th>select</th>\n",
       "      <th>age</th>\n",
       "    </tr>\n",
       "  </thead>\n",
       "  <tbody>\n",
       "    <tr>\n",
       "      <th>0</th>\n",
       "      <td>103890505</td>\n",
       "      <td>mythril</td>\n",
       "      <td>ConsenSys/mythril</td>\n",
       "      <td>https://api.github.com/repos/ConsenSys/mythril</td>\n",
       "      <td>https://github.com/ConsenSys/mythril</td>\n",
       "      <td>1332</td>\n",
       "      <td>2017-09-18 04:14:20+00:00</td>\n",
       "      <td>2020-03-05 06:22:15+00:00</td>\n",
       "      <td>2020-03-11 18:27:50+00:00</td>\n",
       "      <td>53149</td>\n",
       "      <td>...</td>\n",
       "      <td>Security analysis tool for EVM bytecode. Suppo...</td>\n",
       "      <td>30</td>\n",
       "      <td>103890505</td>\n",
       "      <td>97.0</td>\n",
       "      <td>0.0</td>\n",
       "      <td>0.0</td>\n",
       "      <td>88.0</td>\n",
       "      <td>only3</td>\n",
       "      <td>True</td>\n",
       "      <td>905.592708</td>\n",
       "    </tr>\n",
       "    <tr>\n",
       "      <th>1</th>\n",
       "      <td>101479803</td>\n",
       "      <td>debops</td>\n",
       "      <td>debops/debops</td>\n",
       "      <td>https://api.github.com/repos/debops/debops</td>\n",
       "      <td>https://github.com/debops/debops</td>\n",
       "      <td>596</td>\n",
       "      <td>2017-08-26 10:46:25+00:00</td>\n",
       "      <td>2020-03-11 09:06:12+00:00</td>\n",
       "      <td>2020-03-10 14:43:18+00:00</td>\n",
       "      <td>27105</td>\n",
       "      <td>...</td>\n",
       "      <td>DebOps - Your Debian-based data center in a box</td>\n",
       "      <td>30</td>\n",
       "      <td>101479803</td>\n",
       "      <td>33.0</td>\n",
       "      <td>0.0</td>\n",
       "      <td>0.0</td>\n",
       "      <td>0.0</td>\n",
       "      <td>either</td>\n",
       "      <td>True</td>\n",
       "      <td>927.164502</td>\n",
       "    </tr>\n",
       "    <tr>\n",
       "      <th>4</th>\n",
       "      <td>117024856</td>\n",
       "      <td>adversarial_image_defenses</td>\n",
       "      <td>facebookarchive/adversarial_image_defenses</td>\n",
       "      <td>https://api.github.com/repos/facebookarchive/a...</td>\n",
       "      <td>https://github.com/facebookarchive/adversarial...</td>\n",
       "      <td>412</td>\n",
       "      <td>2018-01-10 23:41:15+00:00</td>\n",
       "      <td>2020-03-02 02:14:28+00:00</td>\n",
       "      <td>2019-01-25 03:24:05+00:00</td>\n",
       "      <td>646</td>\n",
       "      <td>...</td>\n",
       "      <td>Countering Adversarial Image using Input Trans...</td>\n",
       "      <td>4</td>\n",
       "      <td>117024856</td>\n",
       "      <td>33.0</td>\n",
       "      <td>0.0</td>\n",
       "      <td>0.0</td>\n",
       "      <td>0.0</td>\n",
       "      <td>either</td>\n",
       "      <td>True</td>\n",
       "      <td>379.154745</td>\n",
       "    </tr>\n",
       "    <tr>\n",
       "      <th>9</th>\n",
       "      <td>76993446</td>\n",
       "      <td>SublimeTextSwiftAutocomplete</td>\n",
       "      <td>Dan2552/SublimeTextSwiftAutocomplete</td>\n",
       "      <td>https://api.github.com/repos/Dan2552/SublimeTe...</td>\n",
       "      <td>https://github.com/Dan2552/SublimeTextSwiftAut...</td>\n",
       "      <td>160</td>\n",
       "      <td>2016-12-20 21:37:08+00:00</td>\n",
       "      <td>2020-01-14 02:14:17+00:00</td>\n",
       "      <td>2018-02-16 22:13:54+00:00</td>\n",
       "      <td>918</td>\n",
       "      <td>...</td>\n",
       "      <td>Swift autocompletion in Sublime Text using Sou...</td>\n",
       "      <td>2</td>\n",
       "      <td>76993446</td>\n",
       "      <td>14.0</td>\n",
       "      <td>0.0</td>\n",
       "      <td>0.0</td>\n",
       "      <td>0.0</td>\n",
       "      <td>either</td>\n",
       "      <td>True</td>\n",
       "      <td>423.025532</td>\n",
       "    </tr>\n",
       "    <tr>\n",
       "      <th>10</th>\n",
       "      <td>116679937</td>\n",
       "      <td>MillionHeroAssistant</td>\n",
       "      <td>smileboywtu/MillionHeroAssistant</td>\n",
       "      <td>https://api.github.com/repos/smileboywtu/Milli...</td>\n",
       "      <td>https://github.com/smileboywtu/MillionHeroAssi...</td>\n",
       "      <td>525</td>\n",
       "      <td>2018-01-08 13:26:04+00:00</td>\n",
       "      <td>2020-03-09 03:42:28+00:00</td>\n",
       "      <td>2020-01-08 09:39:27+00:00</td>\n",
       "      <td>69575</td>\n",
       "      <td>...</td>\n",
       "      <td>百万 / 冲顶 / 芝士 / UC  / 万能 答题助手（知识图谱更加专业，自动推荐答案， ...</td>\n",
       "      <td>6</td>\n",
       "      <td>116679937</td>\n",
       "      <td>19.0</td>\n",
       "      <td>0.0</td>\n",
       "      <td>0.0</td>\n",
       "      <td>0.0</td>\n",
       "      <td>either</td>\n",
       "      <td>True</td>\n",
       "      <td>729.842627</td>\n",
       "    </tr>\n",
       "    <tr>\n",
       "      <th>...</th>\n",
       "      <td>...</td>\n",
       "      <td>...</td>\n",
       "      <td>...</td>\n",
       "      <td>...</td>\n",
       "      <td>...</td>\n",
       "      <td>...</td>\n",
       "      <td>...</td>\n",
       "      <td>...</td>\n",
       "      <td>...</td>\n",
       "      <td>...</td>\n",
       "      <td>...</td>\n",
       "      <td>...</td>\n",
       "      <td>...</td>\n",
       "      <td>...</td>\n",
       "      <td>...</td>\n",
       "      <td>...</td>\n",
       "      <td>...</td>\n",
       "      <td>...</td>\n",
       "      <td>...</td>\n",
       "      <td>...</td>\n",
       "      <td>...</td>\n",
       "    </tr>\n",
       "    <tr>\n",
       "      <th>2408</th>\n",
       "      <td>153622703</td>\n",
       "      <td>zarr-python</td>\n",
       "      <td>alimanfoo/zarr-python</td>\n",
       "      <td>https://api.github.com/repos/alimanfoo/zarr-py...</td>\n",
       "      <td>https://github.com/alimanfoo/zarr-python</td>\n",
       "      <td>3</td>\n",
       "      <td>2018-10-18 12:47:47+00:00</td>\n",
       "      <td>2019-08-12 16:15:00+00:00</td>\n",
       "      <td>2019-08-13 14:57:18+00:00</td>\n",
       "      <td>12743</td>\n",
       "      <td>...</td>\n",
       "      <td>An implementation of chunked, compressed, N-di...</td>\n",
       "      <td>17</td>\n",
       "      <td>153622703</td>\n",
       "      <td>33.0</td>\n",
       "      <td>0.0</td>\n",
       "      <td>0.0</td>\n",
       "      <td>0.0</td>\n",
       "      <td>either</td>\n",
       "      <td>True</td>\n",
       "      <td>299.089942</td>\n",
       "    </tr>\n",
       "    <tr>\n",
       "      <th>2409</th>\n",
       "      <td>80370897</td>\n",
       "      <td>Pytorch-Tutorials</td>\n",
       "      <td>alexis-jacq/Pytorch-Tutorials</td>\n",
       "      <td>https://api.github.com/repos/alexis-jacq/Pytor...</td>\n",
       "      <td>https://github.com/alexis-jacq/Pytorch-Tutorials</td>\n",
       "      <td>133</td>\n",
       "      <td>2017-01-29 20:35:36+00:00</td>\n",
       "      <td>2020-02-08 21:00:22+00:00</td>\n",
       "      <td>2018-11-05 16:55:54+00:00</td>\n",
       "      <td>6788</td>\n",
       "      <td>...</td>\n",
       "      <td>Pytorch tutorials for Neural Style transfert</td>\n",
       "      <td>2</td>\n",
       "      <td>80370897</td>\n",
       "      <td>1.0</td>\n",
       "      <td>0.0</td>\n",
       "      <td>0.0</td>\n",
       "      <td>0.0</td>\n",
       "      <td>either</td>\n",
       "      <td>True</td>\n",
       "      <td>644.847431</td>\n",
       "    </tr>\n",
       "    <tr>\n",
       "      <th>2411</th>\n",
       "      <td>59060289</td>\n",
       "      <td>leather</td>\n",
       "      <td>wireservice/leather</td>\n",
       "      <td>https://api.github.com/repos/wireservice/leather</td>\n",
       "      <td>https://github.com/wireservice/leather</td>\n",
       "      <td>283</td>\n",
       "      <td>2016-05-17 21:26:25+00:00</td>\n",
       "      <td>2020-02-19 20:44:32+00:00</td>\n",
       "      <td>2020-02-05 17:48:05+00:00</td>\n",
       "      <td>331</td>\n",
       "      <td>...</td>\n",
       "      <td>Python charting for 80% of humans.</td>\n",
       "      <td>1</td>\n",
       "      <td>59060289</td>\n",
       "      <td>60.0</td>\n",
       "      <td>0.0</td>\n",
       "      <td>0.0</td>\n",
       "      <td>0.0</td>\n",
       "      <td>either</td>\n",
       "      <td>True</td>\n",
       "      <td>1358.848380</td>\n",
       "    </tr>\n",
       "    <tr>\n",
       "      <th>2412</th>\n",
       "      <td>90824610</td>\n",
       "      <td>pytorch-classification</td>\n",
       "      <td>bearpaw/pytorch-classification</td>\n",
       "      <td>https://api.github.com/repos/bearpaw/pytorch-c...</td>\n",
       "      <td>https://github.com/bearpaw/pytorch-classification</td>\n",
       "      <td>953</td>\n",
       "      <td>2017-05-10 05:33:36+00:00</td>\n",
       "      <td>2020-03-11 08:54:13+00:00</td>\n",
       "      <td>2019-12-12 21:55:36+00:00</td>\n",
       "      <td>438</td>\n",
       "      <td>...</td>\n",
       "      <td>Classification with PyTorch.</td>\n",
       "      <td>4</td>\n",
       "      <td>90824610</td>\n",
       "      <td>18.0</td>\n",
       "      <td>0.0</td>\n",
       "      <td>0.0</td>\n",
       "      <td>0.0</td>\n",
       "      <td>either</td>\n",
       "      <td>True</td>\n",
       "      <td>946.681944</td>\n",
       "    </tr>\n",
       "    <tr>\n",
       "      <th>2416</th>\n",
       "      <td>68911733</td>\n",
       "      <td>QTAF</td>\n",
       "      <td>Tencent/QTAF</td>\n",
       "      <td>https://api.github.com/repos/Tencent/QTAF</td>\n",
       "      <td>https://github.com/Tencent/QTAF</td>\n",
       "      <td>299</td>\n",
       "      <td>2016-09-22 10:43:37+00:00</td>\n",
       "      <td>2020-02-26 10:01:51+00:00</td>\n",
       "      <td>2020-01-06 05:23:43+00:00</td>\n",
       "      <td>4358</td>\n",
       "      <td>...</td>\n",
       "      <td>QTA test framework</td>\n",
       "      <td>3</td>\n",
       "      <td>68911733</td>\n",
       "      <td>78.0</td>\n",
       "      <td>0.0</td>\n",
       "      <td>0.0</td>\n",
       "      <td>0.0</td>\n",
       "      <td>either</td>\n",
       "      <td>True</td>\n",
       "      <td>1200.777847</td>\n",
       "    </tr>\n",
       "  </tbody>\n",
       "</table>\n",
       "<p>1177 rows × 24 columns</p>\n",
       "</div>"
      ],
      "text/plain": [
       "             id                          name  \\\n",
       "0     103890505                       mythril   \n",
       "1     101479803                        debops   \n",
       "4     117024856    adversarial_image_defenses   \n",
       "9      76993446  SublimeTextSwiftAutocomplete   \n",
       "10    116679937          MillionHeroAssistant   \n",
       "...         ...                           ...   \n",
       "2408  153622703                   zarr-python   \n",
       "2409   80370897             Pytorch-Tutorials   \n",
       "2411   59060289                       leather   \n",
       "2412   90824610        pytorch-classification   \n",
       "2416   68911733                          QTAF   \n",
       "\n",
       "                                       full_name  \\\n",
       "0                              ConsenSys/mythril   \n",
       "1                                  debops/debops   \n",
       "4     facebookarchive/adversarial_image_defenses   \n",
       "9           Dan2552/SublimeTextSwiftAutocomplete   \n",
       "10              smileboywtu/MillionHeroAssistant   \n",
       "...                                          ...   \n",
       "2408                       alimanfoo/zarr-python   \n",
       "2409               alexis-jacq/Pytorch-Tutorials   \n",
       "2411                         wireservice/leather   \n",
       "2412              bearpaw/pytorch-classification   \n",
       "2416                                Tencent/QTAF   \n",
       "\n",
       "                                                    url  \\\n",
       "0        https://api.github.com/repos/ConsenSys/mythril   \n",
       "1            https://api.github.com/repos/debops/debops   \n",
       "4     https://api.github.com/repos/facebookarchive/a...   \n",
       "9     https://api.github.com/repos/Dan2552/SublimeTe...   \n",
       "10    https://api.github.com/repos/smileboywtu/Milli...   \n",
       "...                                                 ...   \n",
       "2408  https://api.github.com/repos/alimanfoo/zarr-py...   \n",
       "2409  https://api.github.com/repos/alexis-jacq/Pytor...   \n",
       "2411   https://api.github.com/repos/wireservice/leather   \n",
       "2412  https://api.github.com/repos/bearpaw/pytorch-c...   \n",
       "2416          https://api.github.com/repos/Tencent/QTAF   \n",
       "\n",
       "                                               html_url  stars  \\\n",
       "0                  https://github.com/ConsenSys/mythril   1332   \n",
       "1                      https://github.com/debops/debops    596   \n",
       "4     https://github.com/facebookarchive/adversarial...    412   \n",
       "9     https://github.com/Dan2552/SublimeTextSwiftAut...    160   \n",
       "10    https://github.com/smileboywtu/MillionHeroAssi...    525   \n",
       "...                                                 ...    ...   \n",
       "2408           https://github.com/alimanfoo/zarr-python      3   \n",
       "2409   https://github.com/alexis-jacq/Pytorch-Tutorials    133   \n",
       "2411             https://github.com/wireservice/leather    283   \n",
       "2412  https://github.com/bearpaw/pytorch-classification    953   \n",
       "2416                    https://github.com/Tencent/QTAF    299   \n",
       "\n",
       "                    created_at                updated_at  \\\n",
       "0    2017-09-18 04:14:20+00:00 2020-03-05 06:22:15+00:00   \n",
       "1    2017-08-26 10:46:25+00:00 2020-03-11 09:06:12+00:00   \n",
       "4    2018-01-10 23:41:15+00:00 2020-03-02 02:14:28+00:00   \n",
       "9    2016-12-20 21:37:08+00:00 2020-01-14 02:14:17+00:00   \n",
       "10   2018-01-08 13:26:04+00:00 2020-03-09 03:42:28+00:00   \n",
       "...                        ...                       ...   \n",
       "2408 2018-10-18 12:47:47+00:00 2019-08-12 16:15:00+00:00   \n",
       "2409 2017-01-29 20:35:36+00:00 2020-02-08 21:00:22+00:00   \n",
       "2411 2016-05-17 21:26:25+00:00 2020-02-19 20:44:32+00:00   \n",
       "2412 2017-05-10 05:33:36+00:00 2020-03-11 08:54:13+00:00   \n",
       "2416 2016-09-22 10:43:37+00:00 2020-02-26 10:01:51+00:00   \n",
       "\n",
       "                     pushed_at   size  ...  \\\n",
       "0    2020-03-11 18:27:50+00:00  53149  ...   \n",
       "1    2020-03-10 14:43:18+00:00  27105  ...   \n",
       "4    2019-01-25 03:24:05+00:00    646  ...   \n",
       "9    2018-02-16 22:13:54+00:00    918  ...   \n",
       "10   2020-01-08 09:39:27+00:00  69575  ...   \n",
       "...                        ...    ...  ...   \n",
       "2408 2019-08-13 14:57:18+00:00  12743  ...   \n",
       "2409 2018-11-05 16:55:54+00:00   6788  ...   \n",
       "2411 2020-02-05 17:48:05+00:00    331  ...   \n",
       "2412 2019-12-12 21:55:36+00:00    438  ...   \n",
       "2416 2020-01-06 05:23:43+00:00   4358  ...   \n",
       "\n",
       "                                            description  \\\n",
       "0     Security analysis tool for EVM bytecode. Suppo...   \n",
       "1       DebOps - Your Debian-based data center in a box   \n",
       "4     Countering Adversarial Image using Input Trans...   \n",
       "9     Swift autocompletion in Sublime Text using Sou...   \n",
       "10    百万 / 冲顶 / 芝士 / UC  / 万能 答题助手（知识图谱更加专业，自动推荐答案， ...   \n",
       "...                                                 ...   \n",
       "2408  An implementation of chunked, compressed, N-di...   \n",
       "2409       Pytorch tutorials for Neural Style transfert   \n",
       "2411                 Python charting for 80% of humans.   \n",
       "2412                       Classification with PyTorch.   \n",
       "2416                                 QTA test framework   \n",
       "\n",
       "      number_of_contributors       repo  either neither  python2  python3  \\\n",
       "0                         30  103890505    97.0     0.0      0.0     88.0   \n",
       "1                         30  101479803    33.0     0.0      0.0      0.0   \n",
       "4                          4  117024856    33.0     0.0      0.0      0.0   \n",
       "9                          2   76993446    14.0     0.0      0.0      0.0   \n",
       "10                         6  116679937    19.0     0.0      0.0      0.0   \n",
       "...                      ...        ...     ...     ...      ...      ...   \n",
       "2408                      17  153622703    33.0     0.0      0.0      0.0   \n",
       "2409                       2   80370897     1.0     0.0      0.0      0.0   \n",
       "2411                       1   59060289    60.0     0.0      0.0      0.0   \n",
       "2412                       4   90824610    18.0     0.0      0.0      0.0   \n",
       "2416                       3   68911733    78.0     0.0      0.0      0.0   \n",
       "\n",
       "      summary  select          age  \n",
       "0       only3    True   905.592708  \n",
       "1      either    True   927.164502  \n",
       "4      either    True   379.154745  \n",
       "9      either    True   423.025532  \n",
       "10     either    True   729.842627  \n",
       "...       ...     ...          ...  \n",
       "2408   either    True   299.089942  \n",
       "2409   either    True   644.847431  \n",
       "2411   either    True  1358.848380  \n",
       "2412   either    True   946.681944  \n",
       "2416   either    True  1200.777847  \n",
       "\n",
       "[1177 rows x 24 columns]"
      ]
     },
     "execution_count": 24,
     "metadata": {},
     "output_type": "execute_result"
    }
   ],
   "source": [
    "nonds_sel = nonds[nonds[\"created_at\"] >= created_thresh]\n",
    "nonds_sel"
   ]
  },
  {
   "cell_type": "code",
   "execution_count": 25,
   "metadata": {},
   "outputs": [
    {
     "data": {
      "text/plain": [
       "count    1177.000000\n",
       "mean      855.995208\n",
       "std       429.138838\n",
       "min         0.000347\n",
       "25%       560.838241\n",
       "50%       921.918623\n",
       "75%      1197.569491\n",
       "max      1529.408542\n",
       "Name: age, dtype: float64"
      ]
     },
     "execution_count": 25,
     "metadata": {},
     "output_type": "execute_result"
    }
   ],
   "source": [
    "nonds_sel[\"age\"].describe()"
   ]
  },
  {
   "cell_type": "code",
   "execution_count": 26,
   "metadata": {},
   "outputs": [],
   "source": [
    "nonds = nonds_sel"
   ]
  },
  {
   "cell_type": "code",
   "execution_count": 27,
   "metadata": {},
   "outputs": [],
   "source": [
    "nonds[\"id\"].to_csv(join(NB_OUT, \"nonds_selected.csv\"), index=False)"
   ]
  },
  {
   "cell_type": "markdown",
   "metadata": {},
   "source": [
    "## Rerun Analysis"
   ]
  },
  {
   "cell_type": "code",
   "execution_count": 28,
   "metadata": {},
   "outputs": [],
   "source": [
    "def plot_all_log(dim):\n",
    "    xs1 = ds[dim]\n",
    "    xs2 = nonds[dim]\n",
    "    ks = stats.ks_2samp(xs1, xs2) # calculate before any manipulation\n",
    "    \n",
    "    stats.ks_2samp(xs1, xs2)\n",
    "    # Can't plot 0 on a log scale. So replace 0 (and NaN) with 0.9\n",
    "    MIN = 0.9\n",
    "    xs1 = np.where(xs1 > MIN, xs1, MIN)\n",
    "    xs2 = np.where(xs2 > MIN, xs2, MIN)\n",
    "    start = min(np.min(xs1), np.min(xs2))\n",
    "    end = max(np.max(xs1), np.max(xs2))\n",
    "    logbins = np.logspace(np.log10(start),np.log10(end)+0.001,1000)\n",
    "    \n",
    "    plt.hist(xs1, bins=logbins, density=True, histtype='step', cumulative=-1, label='ds')\n",
    "    plt.hist(xs2, bins=logbins, density=True, histtype='step', cumulative=-1, label='non-ds', ls='--')\n",
    "    plt.xscale('log')\n",
    "    #plt.title(dim)\n",
    "    plt.xlabel(dim.replace('_', ' '))\n",
    "    plt.xlim(start, end)\n",
    "    plt.ylabel('survival (1 - CDF)')\n",
    "    plt.legend(loc='upper right')\n",
    "    plt.savefig(join(NB_OUT, dim + '-cdf-cutoff-log.png'), dpi=300)\n",
    "    plt.show()\n",
    "    \n",
    "    return ks"
   ]
  },
  {
   "cell_type": "code",
   "execution_count": 29,
   "metadata": {},
   "outputs": [],
   "source": [
    "def plot_all_lin(dim, unit=''):\n",
    "    xs1 = ds[dim]\n",
    "    xs2 = nonds[dim]\n",
    "    start = min(np.min(xs1), np.min(xs2))\n",
    "    end = max(np.max(xs1), np.max(xs2))\n",
    "    linbins = np.linspace(start, end+0.001,1000)\n",
    "    \n",
    "    # adapted from https://matplotlib.org/3.1.1/gallery/statistics/histogram_cumulative.html\n",
    "    plt.hist(xs1, bins=linbins, density=True, histtype='step', cumulative=-1, label='ds')\n",
    "    plt.hist(xs2, bins=linbins, density=True, histtype='step', cumulative=-1, label='non-ds', ls='--')\n",
    "    #plt.title(dim)\n",
    "    plt.xlabel(dim.replace('_', ' ') + unit)\n",
    "    plt.xlim(start, end)\n",
    "    plt.ylabel('survival (1 - CDF)')\n",
    "    plt.legend(loc='upper right')\n",
    "    plt.savefig(join(NB_OUT, dim + '-cdf-cutoff.png'), dpi=300)\n",
    "    plt.show()\n",
    "    \n",
    "    return stats.ks_2samp(xs1, xs2)"
   ]
  },
  {
   "cell_type": "code",
   "execution_count": 30,
   "metadata": {},
   "outputs": [
    {
     "data": {
      "image/png": "[encoded data removed]",
      "text/plain": [
       "<Figure size 432x288 with 1 Axes>"
      ]
     },
     "metadata": {
      "needs_background": "light"
     },
     "output_type": "display_data"
    },
    {
     "name": "stdout",
     "output_type": "stream",
     "text": [
      "Ks_2sampResult(statistic=0.05569166896822073, pvalue=0.06096230212211173)\n"
     ]
    },
    {
     "data": {
      "image/png": "[encoded data removed]",
      "text/plain": [
       "<Figure size 432x288 with 1 Axes>"
      ]
     },
     "metadata": {
      "needs_background": "light"
     },
     "output_type": "display_data"
    },
    {
     "name": "stdout",
     "output_type": "stream",
     "text": [
      "Ks_2sampResult(statistic=0.17634223798528031, pvalue=3.552713678800501e-15)\n"
     ]
    },
    {
     "data": {
      "image/png": "[encoded data removed]",
      "text/plain": [
       "<Figure size 432x288 with 1 Axes>"
      ]
     },
     "metadata": {
      "needs_background": "light"
     },
     "output_type": "display_data"
    },
    {
     "name": "stdout",
     "output_type": "stream",
     "text": [
      "Ks_2sampResult(statistic=0.15691928146156917, pvalue=2.157385381451604e-12)\n"
     ]
    },
    {
     "data": {
      "image/png": "[encoded data removed]",
      "text/plain": [
       "<Figure size 432x288 with 1 Axes>"
      ]
     },
     "metadata": {
      "needs_background": "light"
     },
     "output_type": "display_data"
    },
    {
     "name": "stdout",
     "output_type": "stream",
     "text": [
      "Ks_2sampResult(statistic=0.03482460538134389, pvalue=0.4969856928232568)\n"
     ]
    },
    {
     "data": {
      "image/png": "[encoded data removed]",
      "text/plain": [
       "<Figure size 432x288 with 1 Axes>"
      ]
     },
     "metadata": {
      "needs_background": "light"
     },
     "output_type": "display_data"
    },
    {
     "name": "stdout",
     "output_type": "stream",
     "text": [
      "Ks_2sampResult(statistic=0.041154216541545816, pvalue=0.29365910080026736)\n"
     ]
    }
   ],
   "source": [
    "dims = ['stars', 'size', 'forks_count', 'open_issues_count', 'watch']\n",
    "for dim in dims:\n",
    "    print(plot_all_log(dim))"
   ]
  },
  {
   "cell_type": "code",
   "execution_count": 31,
   "metadata": {},
   "outputs": [
    {
     "data": {
      "image/png": "[encoded data removed]",
      "text/plain": [
       "<Figure size 432x288 with 1 Axes>"
      ]
     },
     "metadata": {
      "needs_background": "light"
     },
     "output_type": "display_data"
    },
    {
     "data": {
      "text/plain": [
       "Ks_2sampResult(statistic=0.2203676601010956, pvalue=2.1094237467877974e-15)"
      ]
     },
     "execution_count": 31,
     "metadata": {},
     "output_type": "execute_result"
    }
   ],
   "source": [
    "plot_all_lin('age', ' (years)')"
   ]
  },
  {
   "cell_type": "code",
   "execution_count": 32,
   "metadata": {},
   "outputs": [
    {
     "data": {
      "image/png": "[encoded data removed]",
      "text/plain": [
       "<Figure size 432x288 with 1 Axes>"
      ]
     },
     "metadata": {
      "needs_background": "light"
     },
     "output_type": "display_data"
    },
    {
     "data": {
      "text/plain": [
       "Ks_2sampResult(statistic=0.1955878196089167, pvalue=2.1094237467877974e-15)"
      ]
     },
     "execution_count": 32,
     "metadata": {},
     "output_type": "execute_result"
    }
   ],
   "source": [
    "plot_all_lin('number_of_contributors')"
   ]
  },
  {
   "cell_type": "code",
   "execution_count": null,
   "metadata": {},
   "outputs": [],
   "source": []
  }
 ],
 "metadata": {
  "kernelspec": {
   "display_name": "Python 3",
   "language": "python",
   "name": "python3"
  },
  "language_info": {
   "codemirror_mode": {
    "name": "ipython",
    "version": 3
   },
   "file_extension": ".py",
   "mimetype": "text/x-python",
   "name": "python",
   "nbconvert_exporter": "python",
   "pygments_lexer": "ipython3",
   "version": "3.7.6"
  }
 },
 "nbformat": 4,
 "nbformat_minor": 4
}
