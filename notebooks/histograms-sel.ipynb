{
 "cells": [
  {
   "cell_type": "code",
   "execution_count": 1,
   "metadata": {},
   "outputs": [],
   "source": [
    "import numpy as np\n",
    "import pandas as pd\n",
    "import matplotlib.pyplot as plt\n",
    "from scipy import stats"
   ]
  },
  {
   "cell_type": "code",
   "execution_count": 2,
   "metadata": {},
   "outputs": [],
   "source": [
    "ds = pd.read_csv(\"../data/boa/github_api.csv\", parse_dates=['created_at', 'updated_at', 'pushed_at'])"
   ]
  },
  {
   "cell_type": "code",
   "execution_count": 3,
   "metadata": {},
   "outputs": [],
   "source": [
    "ds[\"age\"] = (ds[\"pushed_at\"] - ds[\"created_at\"]) / pd.to_timedelta('1 day')"
   ]
  },
  {
   "cell_type": "code",
   "execution_count": 4,
   "metadata": {},
   "outputs": [
    {
     "data": {
      "text/plain": [
       "count    1552.000000\n",
       "mean      717.701516\n",
       "std       541.046432\n",
       "min         0.000845\n",
       "25%       332.312966\n",
       "50%       656.401609\n",
       "75%       966.842459\n",
       "max      3953.132014\n",
       "Name: age, dtype: float64"
      ]
     },
     "execution_count": 4,
     "metadata": {},
     "output_type": "execute_result"
    }
   ],
   "source": [
    "ds[\"age\"].describe()"
   ]
  },
  {
   "cell_type": "code",
   "execution_count": 5,
   "metadata": {},
   "outputs": [],
   "source": [
    "nonds = pd.read_csv(\"../data/non-data-science/github_api.csv\", parse_dates=['created_at', 'updated_at', 'pushed_at'])"
   ]
  },
  {
   "cell_type": "code",
   "execution_count": 6,
   "metadata": {},
   "outputs": [],
   "source": [
    "nonds[\"age\"] = (nonds[\"pushed_at\"] - nonds[\"created_at\"]) / pd.to_timedelta('1 day')"
   ]
  },
  {
   "cell_type": "code",
   "execution_count": 7,
   "metadata": {},
   "outputs": [
    {
     "data": {
      "text/plain": [
       "count    9882.000000\n",
       "mean     1717.596386\n",
       "std       927.723405\n",
       "min      -392.995961\n",
       "25%      1028.442743\n",
       "50%      1728.365295\n",
       "75%      2379.651832\n",
       "max      4360.879826\n",
       "Name: age, dtype: float64"
      ]
     },
     "execution_count": 7,
     "metadata": {},
     "output_type": "execute_result"
    }
   ],
   "source": [
    "nonds[\"age\"].describe()"
   ]
  },
  {
   "cell_type": "markdown",
   "metadata": {},
   "source": [
    "## Analyse Language"
   ]
  },
  {
   "cell_type": "code",
   "execution_count": 8,
   "metadata": {},
   "outputs": [
    {
     "data": {
      "text/plain": [
       "Python              0.984536\n",
       "Jupyter Notebook    0.007732\n",
       "HTML                0.001289\n",
       "JavaScript          0.001289\n",
       "C++                 0.001289\n",
       "TypeScript          0.000644\n",
       "C#                  0.000644\n",
       "Perl                0.000644\n",
       "Jsonnet             0.000644\n",
       "Java                0.000644\n",
       "Name: language, dtype: float64"
      ]
     },
     "execution_count": 8,
     "metadata": {},
     "output_type": "execute_result"
    }
   ],
   "source": [
    "ds[\"language\"].value_counts() / ds.shape[0]"
   ]
  },
  {
   "cell_type": "code",
   "execution_count": 9,
   "metadata": {},
   "outputs": [
    {
     "data": {
      "text/plain": [
       "(1552, 17)"
      ]
     },
     "execution_count": 9,
     "metadata": {},
     "output_type": "execute_result"
    }
   ],
   "source": [
    "ds.shape"
   ]
  },
  {
   "cell_type": "code",
   "execution_count": 10,
   "metadata": {},
   "outputs": [
    {
     "data": {
      "text/plain": [
       "Python                      0.944647\n",
       "Jupyter Notebook            0.009613\n",
       "JavaScript                  0.006881\n",
       "HTML                        0.005869\n",
       "Shell                       0.003542\n",
       "Go                          0.003137\n",
       "C                           0.002125\n",
       "CSS                         0.001923\n",
       "C++                         0.001720\n",
       "Java                        0.000810\n",
       "Rust                        0.000810\n",
       "TeX                         0.000708\n",
       "Ruby                        0.000607\n",
       "Vim script                  0.000607\n",
       "TypeScript                  0.000607\n",
       "PowerShell                  0.000506\n",
       "Roff                        0.000506\n",
       "C#                          0.000506\n",
       "YARA                        0.000405\n",
       "PHP                         0.000405\n",
       "HCL                         0.000304\n",
       "Lua                         0.000304\n",
       "Kotlin                      0.000304\n",
       "Dockerfile                  0.000304\n",
       "Swift                       0.000304\n",
       "TSQL                        0.000304\n",
       "Makefile                    0.000202\n",
       "PLpgSQL                     0.000202\n",
       "SWIG                        0.000202\n",
       "Objective-C                 0.000202\n",
       "Tcl                         0.000202\n",
       "PostScript                  0.000202\n",
       "Groovy                      0.000101\n",
       "Elixir                      0.000101\n",
       "FreeMarker                  0.000101\n",
       "Vala                        0.000101\n",
       "Vim Snippet                 0.000101\n",
       "Ren'Py                      0.000101\n",
       "Common Lisp                 0.000101\n",
       "Forth                       0.000101\n",
       "Assembly                    0.000101\n",
       "Erlang                      0.000101\n",
       "Groff                       0.000101\n",
       "Verilog                     0.000101\n",
       "Batchfile                   0.000101\n",
       "Common Workflow Language    0.000101\n",
       "QML                         0.000101\n",
       "CMake                       0.000101\n",
       "Smarty                      0.000101\n",
       "Protocol Buffer             0.000101\n",
       "Name: language, dtype: float64"
      ]
     },
     "execution_count": 10,
     "metadata": {},
     "output_type": "execute_result"
    }
   ],
   "source": [
    "nonds[\"language\"].value_counts() / nonds.shape[0]"
   ]
  },
  {
   "cell_type": "code",
   "execution_count": 11,
   "metadata": {},
   "outputs": [
    {
     "data": {
      "text/plain": [
       "(9882, 17)"
      ]
     },
     "execution_count": 11,
     "metadata": {},
     "output_type": "execute_result"
    }
   ],
   "source": [
    "nonds.shape"
   ]
  },
  {
   "cell_type": "markdown",
   "metadata": {},
   "source": [
    "## Select Recent"
   ]
  },
  {
   "cell_type": "code",
   "execution_count": 12,
   "metadata": {},
   "outputs": [
    {
     "data": {
      "text/plain": [
       "Timestamp('2015-07-01 00:00:00+0000', tz='UTC')"
      ]
     },
     "execution_count": 12,
     "metadata": {},
     "output_type": "execute_result"
    }
   ],
   "source": [
    "created_thresh = pd.to_datetime('2015-07-01T00:00Z')\n",
    "#created_thresh = pd.to_datetime('2016-01-01T00:00Z')\n",
    "created_thresh"
   ]
  },
  {
   "cell_type": "code",
   "execution_count": 13,
   "metadata": {},
   "outputs": [
    {
     "data": {
      "text/html": [
       "<div>\n",
       "<style scoped>\n",
       "    .dataframe tbody tr th:only-of-type {\n",
       "        vertical-align: middle;\n",
       "    }\n",
       "\n",
       "    .dataframe tbody tr th {\n",
       "        vertical-align: top;\n",
       "    }\n",
       "\n",
       "    .dataframe thead th {\n",
       "        text-align: right;\n",
       "    }\n",
       "</style>\n",
       "<table border=\"1\" class=\"dataframe\">\n",
       "  <thead>\n",
       "    <tr style=\"text-align: right;\">\n",
       "      <th></th>\n",
       "      <th>id</th>\n",
       "      <th>name</th>\n",
       "      <th>full_name</th>\n",
       "      <th>url</th>\n",
       "      <th>html_url</th>\n",
       "      <th>stars</th>\n",
       "      <th>created_at</th>\n",
       "      <th>updated_at</th>\n",
       "      <th>pushed_at</th>\n",
       "      <th>size</th>\n",
       "      <th>language</th>\n",
       "      <th>forks_count</th>\n",
       "      <th>open_issues_count</th>\n",
       "      <th>watch</th>\n",
       "      <th>description</th>\n",
       "      <th>number_of_contributors</th>\n",
       "      <th>age</th>\n",
       "    </tr>\n",
       "  </thead>\n",
       "  <tbody>\n",
       "    <tr>\n",
       "      <th>2</th>\n",
       "      <td>103890505</td>\n",
       "      <td>mythril</td>\n",
       "      <td>ConsenSys/mythril</td>\n",
       "      <td>https://api.github.com/repos/ConsenSys/mythril</td>\n",
       "      <td>https://github.com/ConsenSys/mythril</td>\n",
       "      <td>1332</td>\n",
       "      <td>2017-09-18 04:14:20+00:00</td>\n",
       "      <td>2020-03-05 06:22:15+00:00</td>\n",
       "      <td>2020-03-11 18:27:50+00:00</td>\n",
       "      <td>53149</td>\n",
       "      <td>Python</td>\n",
       "      <td>293</td>\n",
       "      <td>80</td>\n",
       "      <td>57</td>\n",
       "      <td>Security analysis tool for EVM bytecode. Suppo...</td>\n",
       "      <td>30</td>\n",
       "      <td>905.592708</td>\n",
       "    </tr>\n",
       "    <tr>\n",
       "      <th>3</th>\n",
       "      <td>101479803</td>\n",
       "      <td>debops</td>\n",
       "      <td>debops/debops</td>\n",
       "      <td>https://api.github.com/repos/debops/debops</td>\n",
       "      <td>https://github.com/debops/debops</td>\n",
       "      <td>596</td>\n",
       "      <td>2017-08-26 10:46:25+00:00</td>\n",
       "      <td>2020-03-11 09:06:12+00:00</td>\n",
       "      <td>2020-03-10 14:43:18+00:00</td>\n",
       "      <td>27105</td>\n",
       "      <td>Shell</td>\n",
       "      <td>217</td>\n",
       "      <td>120</td>\n",
       "      <td>47</td>\n",
       "      <td>DebOps - Your Debian-based data center in a box</td>\n",
       "      <td>30</td>\n",
       "      <td>927.164502</td>\n",
       "    </tr>\n",
       "    <tr>\n",
       "      <th>4</th>\n",
       "      <td>49299616</td>\n",
       "      <td>ray</td>\n",
       "      <td>felipevolpone/ray</td>\n",
       "      <td>https://api.github.com/repos/felipevolpone/ray</td>\n",
       "      <td>https://github.com/felipevolpone/ray</td>\n",
       "      <td>216</td>\n",
       "      <td>2016-01-08 22:15:39+00:00</td>\n",
       "      <td>2020-02-27 07:28:51+00:00</td>\n",
       "      <td>2018-03-02 20:49:11+00:00</td>\n",
       "      <td>991</td>\n",
       "      <td>Python</td>\n",
       "      <td>9</td>\n",
       "      <td>4</td>\n",
       "      <td>21</td>\n",
       "      <td>a framework that helps you to deliver well-des...</td>\n",
       "      <td>4</td>\n",
       "      <td>783.939954</td>\n",
       "    </tr>\n",
       "    <tr>\n",
       "      <th>14</th>\n",
       "      <td>44940149</td>\n",
       "      <td>shadowsocks-rm</td>\n",
       "      <td>mengskysama/shadowsocks-rm</td>\n",
       "      <td>https://api.github.com/repos/mengskysama/shado...</td>\n",
       "      <td>https://github.com/mengskysama/shadowsocks-rm</td>\n",
       "      <td>424</td>\n",
       "      <td>2015-10-26 02:04:19+00:00</td>\n",
       "      <td>2020-03-02 08:52:51+00:00</td>\n",
       "      <td>2019-03-13 09:01:38+00:00</td>\n",
       "      <td>739</td>\n",
       "      <td>Python</td>\n",
       "      <td>502</td>\n",
       "      <td>45</td>\n",
       "      <td>43</td>\n",
       "      <td>A fast tunnel proxy that helps you bypass fire...</td>\n",
       "      <td>26</td>\n",
       "      <td>1234.289803</td>\n",
       "    </tr>\n",
       "    <tr>\n",
       "      <th>17</th>\n",
       "      <td>117024856</td>\n",
       "      <td>adversarial_image_defenses</td>\n",
       "      <td>facebookarchive/adversarial_image_defenses</td>\n",
       "      <td>https://api.github.com/repos/facebookarchive/a...</td>\n",
       "      <td>https://github.com/facebookarchive/adversarial...</td>\n",
       "      <td>412</td>\n",
       "      <td>2018-01-10 23:41:15+00:00</td>\n",
       "      <td>2020-03-02 02:14:28+00:00</td>\n",
       "      <td>2019-01-25 03:24:05+00:00</td>\n",
       "      <td>646</td>\n",
       "      <td>Python</td>\n",
       "      <td>58</td>\n",
       "      <td>0</td>\n",
       "      <td>15</td>\n",
       "      <td>Countering Adversarial Image using Input Trans...</td>\n",
       "      <td>4</td>\n",
       "      <td>379.154745</td>\n",
       "    </tr>\n",
       "    <tr>\n",
       "      <th>...</th>\n",
       "      <td>...</td>\n",
       "      <td>...</td>\n",
       "      <td>...</td>\n",
       "      <td>...</td>\n",
       "      <td>...</td>\n",
       "      <td>...</td>\n",
       "      <td>...</td>\n",
       "      <td>...</td>\n",
       "      <td>...</td>\n",
       "      <td>...</td>\n",
       "      <td>...</td>\n",
       "      <td>...</td>\n",
       "      <td>...</td>\n",
       "      <td>...</td>\n",
       "      <td>...</td>\n",
       "      <td>...</td>\n",
       "      <td>...</td>\n",
       "    </tr>\n",
       "    <tr>\n",
       "      <th>9872</th>\n",
       "      <td>90824610</td>\n",
       "      <td>pytorch-classification</td>\n",
       "      <td>bearpaw/pytorch-classification</td>\n",
       "      <td>https://api.github.com/repos/bearpaw/pytorch-c...</td>\n",
       "      <td>https://github.com/bearpaw/pytorch-classification</td>\n",
       "      <td>953</td>\n",
       "      <td>2017-05-10 05:33:36+00:00</td>\n",
       "      <td>2020-03-11 08:54:13+00:00</td>\n",
       "      <td>2019-12-12 21:55:36+00:00</td>\n",
       "      <td>438</td>\n",
       "      <td>Python</td>\n",
       "      <td>380</td>\n",
       "      <td>25</td>\n",
       "      <td>25</td>\n",
       "      <td>Classification with PyTorch.</td>\n",
       "      <td>4</td>\n",
       "      <td>946.681944</td>\n",
       "    </tr>\n",
       "    <tr>\n",
       "      <th>9874</th>\n",
       "      <td>40867333</td>\n",
       "      <td>pyltr</td>\n",
       "      <td>jma127/pyltr</td>\n",
       "      <td>https://api.github.com/repos/jma127/pyltr</td>\n",
       "      <td>https://github.com/jma127/pyltr</td>\n",
       "      <td>311</td>\n",
       "      <td>2015-08-17 05:42:11+00:00</td>\n",
       "      <td>2020-03-09 07:25:32+00:00</td>\n",
       "      <td>2017-11-05 05:34:33+00:00</td>\n",
       "      <td>67</td>\n",
       "      <td>Python</td>\n",
       "      <td>88</td>\n",
       "      <td>5</td>\n",
       "      <td>14</td>\n",
       "      <td>Python learning to rank (LTR) toolkit</td>\n",
       "      <td>5</td>\n",
       "      <td>810.994699</td>\n",
       "    </tr>\n",
       "    <tr>\n",
       "      <th>9879</th>\n",
       "      <td>39821165</td>\n",
       "      <td>Tomorrow</td>\n",
       "      <td>madisonmay/Tomorrow</td>\n",
       "      <td>https://api.github.com/repos/madisonmay/Tomorrow</td>\n",
       "      <td>https://github.com/madisonmay/Tomorrow</td>\n",
       "      <td>1442</td>\n",
       "      <td>2015-07-28 08:06:41+00:00</td>\n",
       "      <td>2020-03-10 02:42:02+00:00</td>\n",
       "      <td>2020-02-16 18:30:59+00:00</td>\n",
       "      <td>28</td>\n",
       "      <td>Python</td>\n",
       "      <td>102</td>\n",
       "      <td>5</td>\n",
       "      <td>49</td>\n",
       "      <td>Magic decorator syntax for asynchronous code i...</td>\n",
       "      <td>7</td>\n",
       "      <td>1664.433542</td>\n",
       "    </tr>\n",
       "    <tr>\n",
       "      <th>9880</th>\n",
       "      <td>241142684</td>\n",
       "      <td>pg_activity_fork</td>\n",
       "      <td>julmon/pg_activity_fork</td>\n",
       "      <td>https://api.github.com/repos/julmon/pg_activit...</td>\n",
       "      <td>https://github.com/julmon/pg_activity_fork</td>\n",
       "      <td>1</td>\n",
       "      <td>2020-02-17 15:33:13+00:00</td>\n",
       "      <td>2020-02-25 13:57:20+00:00</td>\n",
       "      <td>2020-02-15 07:01:25+00:00</td>\n",
       "      <td>1226</td>\n",
       "      <td>NaN</td>\n",
       "      <td>0</td>\n",
       "      <td>0</td>\n",
       "      <td>0</td>\n",
       "      <td>WARNING: Personal fork. pg_activity repository...</td>\n",
       "      <td>22</td>\n",
       "      <td>-2.355417</td>\n",
       "    </tr>\n",
       "    <tr>\n",
       "      <th>9881</th>\n",
       "      <td>68911733</td>\n",
       "      <td>QTAF</td>\n",
       "      <td>Tencent/QTAF</td>\n",
       "      <td>https://api.github.com/repos/Tencent/QTAF</td>\n",
       "      <td>https://github.com/Tencent/QTAF</td>\n",
       "      <td>299</td>\n",
       "      <td>2016-09-22 10:43:37+00:00</td>\n",
       "      <td>2020-02-26 10:01:51+00:00</td>\n",
       "      <td>2020-01-06 05:23:43+00:00</td>\n",
       "      <td>4358</td>\n",
       "      <td>Python</td>\n",
       "      <td>83</td>\n",
       "      <td>6</td>\n",
       "      <td>40</td>\n",
       "      <td>QTA test framework</td>\n",
       "      <td>3</td>\n",
       "      <td>1200.777847</td>\n",
       "    </tr>\n",
       "  </tbody>\n",
       "</table>\n",
       "<p>2511 rows × 17 columns</p>\n",
       "</div>"
      ],
      "text/plain": [
       "             id                        name  \\\n",
       "2     103890505                     mythril   \n",
       "3     101479803                      debops   \n",
       "4      49299616                         ray   \n",
       "14     44940149              shadowsocks-rm   \n",
       "17    117024856  adversarial_image_defenses   \n",
       "...         ...                         ...   \n",
       "9872   90824610      pytorch-classification   \n",
       "9874   40867333                       pyltr   \n",
       "9879   39821165                    Tomorrow   \n",
       "9880  241142684            pg_activity_fork   \n",
       "9881   68911733                        QTAF   \n",
       "\n",
       "                                       full_name  \\\n",
       "2                              ConsenSys/mythril   \n",
       "3                                  debops/debops   \n",
       "4                              felipevolpone/ray   \n",
       "14                    mengskysama/shadowsocks-rm   \n",
       "17    facebookarchive/adversarial_image_defenses   \n",
       "...                                          ...   \n",
       "9872              bearpaw/pytorch-classification   \n",
       "9874                                jma127/pyltr   \n",
       "9879                         madisonmay/Tomorrow   \n",
       "9880                     julmon/pg_activity_fork   \n",
       "9881                                Tencent/QTAF   \n",
       "\n",
       "                                                    url  \\\n",
       "2        https://api.github.com/repos/ConsenSys/mythril   \n",
       "3            https://api.github.com/repos/debops/debops   \n",
       "4        https://api.github.com/repos/felipevolpone/ray   \n",
       "14    https://api.github.com/repos/mengskysama/shado...   \n",
       "17    https://api.github.com/repos/facebookarchive/a...   \n",
       "...                                                 ...   \n",
       "9872  https://api.github.com/repos/bearpaw/pytorch-c...   \n",
       "9874          https://api.github.com/repos/jma127/pyltr   \n",
       "9879   https://api.github.com/repos/madisonmay/Tomorrow   \n",
       "9880  https://api.github.com/repos/julmon/pg_activit...   \n",
       "9881          https://api.github.com/repos/Tencent/QTAF   \n",
       "\n",
       "                                               html_url  stars  \\\n",
       "2                  https://github.com/ConsenSys/mythril   1332   \n",
       "3                      https://github.com/debops/debops    596   \n",
       "4                  https://github.com/felipevolpone/ray    216   \n",
       "14        https://github.com/mengskysama/shadowsocks-rm    424   \n",
       "17    https://github.com/facebookarchive/adversarial...    412   \n",
       "...                                                 ...    ...   \n",
       "9872  https://github.com/bearpaw/pytorch-classification    953   \n",
       "9874                    https://github.com/jma127/pyltr    311   \n",
       "9879             https://github.com/madisonmay/Tomorrow   1442   \n",
       "9880         https://github.com/julmon/pg_activity_fork      1   \n",
       "9881                    https://github.com/Tencent/QTAF    299   \n",
       "\n",
       "                    created_at                updated_at  \\\n",
       "2    2017-09-18 04:14:20+00:00 2020-03-05 06:22:15+00:00   \n",
       "3    2017-08-26 10:46:25+00:00 2020-03-11 09:06:12+00:00   \n",
       "4    2016-01-08 22:15:39+00:00 2020-02-27 07:28:51+00:00   \n",
       "14   2015-10-26 02:04:19+00:00 2020-03-02 08:52:51+00:00   \n",
       "17   2018-01-10 23:41:15+00:00 2020-03-02 02:14:28+00:00   \n",
       "...                        ...                       ...   \n",
       "9872 2017-05-10 05:33:36+00:00 2020-03-11 08:54:13+00:00   \n",
       "9874 2015-08-17 05:42:11+00:00 2020-03-09 07:25:32+00:00   \n",
       "9879 2015-07-28 08:06:41+00:00 2020-03-10 02:42:02+00:00   \n",
       "9880 2020-02-17 15:33:13+00:00 2020-02-25 13:57:20+00:00   \n",
       "9881 2016-09-22 10:43:37+00:00 2020-02-26 10:01:51+00:00   \n",
       "\n",
       "                     pushed_at   size language  forks_count  \\\n",
       "2    2020-03-11 18:27:50+00:00  53149   Python          293   \n",
       "3    2020-03-10 14:43:18+00:00  27105    Shell          217   \n",
       "4    2018-03-02 20:49:11+00:00    991   Python            9   \n",
       "14   2019-03-13 09:01:38+00:00    739   Python          502   \n",
       "17   2019-01-25 03:24:05+00:00    646   Python           58   \n",
       "...                        ...    ...      ...          ...   \n",
       "9872 2019-12-12 21:55:36+00:00    438   Python          380   \n",
       "9874 2017-11-05 05:34:33+00:00     67   Python           88   \n",
       "9879 2020-02-16 18:30:59+00:00     28   Python          102   \n",
       "9880 2020-02-15 07:01:25+00:00   1226      NaN            0   \n",
       "9881 2020-01-06 05:23:43+00:00   4358   Python           83   \n",
       "\n",
       "      open_issues_count  watch  \\\n",
       "2                    80     57   \n",
       "3                   120     47   \n",
       "4                     4     21   \n",
       "14                   45     43   \n",
       "17                    0     15   \n",
       "...                 ...    ...   \n",
       "9872                 25     25   \n",
       "9874                  5     14   \n",
       "9879                  5     49   \n",
       "9880                  0      0   \n",
       "9881                  6     40   \n",
       "\n",
       "                                            description  \\\n",
       "2     Security analysis tool for EVM bytecode. Suppo...   \n",
       "3       DebOps - Your Debian-based data center in a box   \n",
       "4     a framework that helps you to deliver well-des...   \n",
       "14    A fast tunnel proxy that helps you bypass fire...   \n",
       "17    Countering Adversarial Image using Input Trans...   \n",
       "...                                                 ...   \n",
       "9872                       Classification with PyTorch.   \n",
       "9874              Python learning to rank (LTR) toolkit   \n",
       "9879  Magic decorator syntax for asynchronous code i...   \n",
       "9880  WARNING: Personal fork. pg_activity repository...   \n",
       "9881                                 QTA test framework   \n",
       "\n",
       "      number_of_contributors          age  \n",
       "2                         30   905.592708  \n",
       "3                         30   927.164502  \n",
       "4                          4   783.939954  \n",
       "14                        26  1234.289803  \n",
       "17                         4   379.154745  \n",
       "...                      ...          ...  \n",
       "9872                       4   946.681944  \n",
       "9874                       5   810.994699  \n",
       "9879                       7  1664.433542  \n",
       "9880                      22    -2.355417  \n",
       "9881                       3  1200.777847  \n",
       "\n",
       "[2511 rows x 17 columns]"
      ]
     },
     "execution_count": 13,
     "metadata": {},
     "output_type": "execute_result"
    }
   ],
   "source": [
    "nonds_sel = nonds[nonds[\"created_at\"] >= created_thresh]\n",
    "nonds_sel"
   ]
  },
  {
   "cell_type": "code",
   "execution_count": 14,
   "metadata": {},
   "outputs": [
    {
     "data": {
      "text/plain": [
       "count    2511.000000\n",
       "mean      913.130422\n",
       "std       505.221950\n",
       "min      -392.995961\n",
       "25%       515.140880\n",
       "50%       983.919155\n",
       "75%      1339.640949\n",
       "max      1714.908426\n",
       "Name: age, dtype: float64"
      ]
     },
     "execution_count": 14,
     "metadata": {},
     "output_type": "execute_result"
    }
   ],
   "source": [
    "nonds_sel[\"age\"].describe()"
   ]
  },
  {
   "cell_type": "code",
   "execution_count": 15,
   "metadata": {},
   "outputs": [],
   "source": [
    "nonds = nonds_sel"
   ]
  },
  {
   "cell_type": "markdown",
   "metadata": {},
   "source": [
    "## Rerun Analysis"
   ]
  },
  {
   "cell_type": "code",
   "execution_count": 16,
   "metadata": {},
   "outputs": [],
   "source": [
    "def plot_all(dim):\n",
    "    xs1 = ds[dim]\n",
    "    xs2 = nonds[dim]\n",
    "    start = max(0.9, min(np.min(xs1), np.min(xs2)))\n",
    "    end = max(0.9, np.max(xs1), np.max(xs2))\n",
    "    logbins = np.logspace(np.log10(start),np.log10(end)+0.001,1000)\n",
    "    \n",
    "    plt.hist(xs1, bins=logbins, density=True, histtype='step', cumulative=True, label='ds')\n",
    "    plt.hist(xs2, bins=logbins, density=True, histtype='step', cumulative=True, label='non-ds')\n",
    "    plt.xscale('log')\n",
    "    plt.title('distribution of ' + dim)\n",
    "    plt.xlabel(dim)\n",
    "    plt.ylabel('CDF')\n",
    "    plt.legend(loc='upper left')\n",
    "    plt.savefig(dim + '-cdf-cutoff.png', dpi=300)\n",
    "    plt.show()\n",
    "    \n",
    "    return stats.ks_2samp(xs1, xs2)"
   ]
  },
  {
   "cell_type": "code",
   "execution_count": 17,
   "metadata": {},
   "outputs": [],
   "source": [
    "dims = ['stars', 'size', 'forks_count', 'open_issues_count', 'watch', 'age', 'number_of_contributors']"
   ]
  },
  {
   "cell_type": "code",
   "execution_count": 18,
   "metadata": {},
   "outputs": [
    {
     "data": {
      "image/png": "[encoded data removed]",
      "text/plain": [
       "<Figure size 432x288 with 1 Axes>"
      ]
     },
     "metadata": {
      "needs_background": "light"
     },
     "output_type": "display_data"
    },
    {
     "name": "stdout",
     "output_type": "stream",
     "text": [
      "Ks_2sampResult(statistic=0.04630014533988595, pvalue=0.03145903424378704)\n"
     ]
    },
    {
     "data": {
      "image/png": "[encoded data removed]",
      "text/plain": [
       "<Figure size 432x288 with 1 Axes>"
      ]
     },
     "metadata": {
      "needs_background": "light"
     },
     "output_type": "display_data"
    },
    {
     "name": "stdout",
     "output_type": "stream",
     "text": [
      "Ks_2sampResult(statistic=0.17078591311630886, pvalue=6.759831143865469e-05)\n"
     ]
    },
    {
     "data": {
      "image/png": "[encoded data removed]",
      "text/plain": [
       "<Figure size 432x288 with 1 Axes>"
      ]
     },
     "metadata": {
      "needs_background": "light"
     },
     "output_type": "display_data"
    },
    {
     "name": "stdout",
     "output_type": "stream",
     "text": [
      "Ks_2sampResult(statistic=0.16968893569325894, pvalue=6.759831143865469e-05)\n"
     ]
    },
    {
     "data": {
      "image/png": "[encoded data removed]",
      "text/plain": [
       "<Figure size 432x288 with 1 Axes>"
      ]
     },
     "metadata": {
      "needs_background": "light"
     },
     "output_type": "display_data"
    },
    {
     "name": "stdout",
     "output_type": "stream",
     "text": [
      "Ks_2sampResult(statistic=0.04262405210886532, pvalue=0.05909531236922916)\n"
     ]
    },
    {
     "data": {
      "image/png": "[encoded data removed]",
      "text/plain": [
       "<Figure size 432x288 with 1 Axes>"
      ]
     },
     "metadata": {
      "needs_background": "light"
     },
     "output_type": "display_data"
    },
    {
     "name": "stdout",
     "output_type": "stream",
     "text": [
      "Ks_2sampResult(statistic=0.03351901119609799, pvalue=0.22492597064587405)\n"
     ]
    },
    {
     "data": {
      "image/png": "[encoded data removed]",
      "text/plain": [
       "<Figure size 432x288 with 1 Axes>"
      ]
     },
     "metadata": {
      "needs_background": "light"
     },
     "output_type": "display_data"
    },
    {
     "name": "stdout",
     "output_type": "stream",
     "text": [
      "Ks_2sampResult(statistic=0.264128299400165, pvalue=6.759831143865469e-05)\n"
     ]
    },
    {
     "data": {
      "image/png": "[encoded data removed]",
      "text/plain": [
       "<Figure size 432x288 with 1 Axes>"
      ]
     },
     "metadata": {
      "needs_background": "light"
     },
     "output_type": "display_data"
    },
    {
     "name": "stdout",
     "output_type": "stream",
     "text": [
      "Ks_2sampResult(statistic=0.21405583473951725, pvalue=6.759831143865469e-05)\n"
     ]
    }
   ],
   "source": [
    "for dim in dims:\n",
    "    print(plot_all(dim))"
   ]
  },
  {
   "cell_type": "code",
   "execution_count": 19,
   "metadata": {},
   "outputs": [],
   "source": [
    "def plot_all_date(dim):\n",
    "    xs1 = ds[dim]\n",
    "    xs2 = nonds[dim]\n",
    "\n",
    "\n",
    "    start = min(np.min(xs1), np.min(xs2))\n",
    "    end = max(np.max(xs1), np.max(xs2))\n",
    "    \n",
    "    plt.hist(xs1, bins=1000, range=(start, end), density=True, histtype='step', cumulative=True, label='ds')\n",
    "    plt.hist(xs2, bins=1000, range=(start, end), density=True, histtype='step', cumulative=True, label='non-ds')\n",
    "    plt.title('distribution of ' + dim)\n",
    "    plt.xlabel(dim)\n",
    "    plt.ylabel('CDF')\n",
    "    plt.savefig(dim + '-cdf-cutoff.png', dpi=300)\n",
    "    plt.legend(loc='upper left')\n",
    "    plt.show()\n",
    "    \n",
    "    # convert timestamp to numerical values (so we can calc stats) \n",
    "    xs1 = xs1.map(lambda x: x.value)\n",
    "    xs2 = xs2.map(lambda x: x.value)\n",
    "    return stats.ks_2samp(xs1, xs2)"
   ]
  },
  {
   "cell_type": "code",
   "execution_count": 20,
   "metadata": {},
   "outputs": [],
   "source": [
    "dims_date = ['created_at', 'updated_at', 'pushed_at']"
   ]
  },
  {
   "cell_type": "code",
   "execution_count": 21,
   "metadata": {},
   "outputs": [
    {
     "name": "stderr",
     "output_type": "stream",
     "text": [
      "/home/andrew/anaconda3/lib/python3.7/site-packages/matplotlib/cbook/__init__.py:1420: FutureWarning: Converting timezone-aware DatetimeArray to timezone-naive ndarray with 'datetime64[ns]' dtype. In the future, this will return an ndarray with 'object' dtype where each element is a 'pandas.Timestamp' with the correct 'tz'.\n",
      "\tTo accept the future behavior, pass 'dtype=object'.\n",
      "\tTo keep the old behavior, pass 'dtype=\"datetime64[ns]\"'.\n",
      "  X = np.atleast_1d(X.T if isinstance(X, np.ndarray) else np.asarray(X))\n",
      "/home/andrew/anaconda3/lib/python3.7/site-packages/pandas/plotting/_matplotlib/converter.py:103: FutureWarning: Using an implicitly registered datetime converter for a matplotlib plotting method. The converter was registered by pandas on import. Future versions of pandas will require you to explicitly register matplotlib converters.\n",
      "\n",
      "To register the converters:\n",
      "\t>>> from pandas.plotting import register_matplotlib_converters\n",
      "\t>>> register_matplotlib_converters()\n",
      "  warnings.warn(msg, FutureWarning)\n"
     ]
    },
    {
     "data": {
      "image/png": "[encoded data removed]",
      "text/plain": [
       "<Figure size 432x288 with 1 Axes>"
      ]
     },
     "metadata": {
      "needs_background": "light"
     },
     "output_type": "display_data"
    },
    {
     "name": "stdout",
     "output_type": "stream",
     "text": [
      "Ks_2sampResult(statistic=0.2501490862883724, pvalue=6.759831143865469e-05)\n"
     ]
    },
    {
     "data": {
      "image/png": "[encoded data removed]",
      "text/plain": [
       "<Figure size 432x288 with 1 Axes>"
      ]
     },
     "metadata": {
      "needs_background": "light"
     },
     "output_type": "display_data"
    },
    {
     "name": "stdout",
     "output_type": "stream",
     "text": [
      "Ks_2sampResult(statistic=0.6415770609318996, pvalue=6.759831143865469e-05)\n"
     ]
    },
    {
     "data": {
      "image/png": "[encoded data removed]",
      "text/plain": [
       "<Figure size 432x288 with 1 Axes>"
      ]
     },
     "metadata": {
      "needs_background": "light"
     },
     "output_type": "display_data"
    },
    {
     "name": "stdout",
     "output_type": "stream",
     "text": [
      "Ks_2sampResult(statistic=0.15491835921943448, pvalue=6.759831143865469e-05)\n"
     ]
    }
   ],
   "source": [
    "for dim in dims_date:\n",
    "    print(plot_all_date(dim))"
   ]
  },
  {
   "cell_type": "code",
   "execution_count": 22,
   "metadata": {},
   "outputs": [],
   "source": [
    "def plot_all_date_survival(dim):\n",
    "    xs1 = ds[dim]\n",
    "    xs2 = nonds[dim]\n",
    "    start = min(np.min(xs1), np.min(xs2))\n",
    "    end = max(np.max(xs1), np.max(xs2))\n",
    "    \n",
    "    plt.hist(xs1, bins=1000, range=(start, end), density=False, histtype='step', cumulative=-1, label='ds')\n",
    "    plt.hist(xs2, bins=1000, range=(start, end), density=False, histtype='step', cumulative=-1, label='non-ds')\n",
    "    plt.title('survival plot of ' + dim)\n",
    "    plt.xlabel(dim)\n",
    "    plt.ylabel('Survival')\n",
    "    plt.legend(loc='upper right')\n",
    "    plt.savefig(dim + '-survival-cutoff.png', dpi=300)\n",
    "    plt.show()"
   ]
  },
  {
   "cell_type": "code",
   "execution_count": 23,
   "metadata": {},
   "outputs": [
    {
     "data": {
      "image/png": "[encoded data removed]",
      "text/plain": [
       "<Figure size 432x288 with 1 Axes>"
      ]
     },
     "metadata": {
      "needs_background": "light"
     },
     "output_type": "display_data"
    }
   ],
   "source": [
    "plot_all_date_survival('created_at')"
   ]
  }
 ],
 "metadata": {
  "kernelspec": {
   "display_name": "Python 3",
   "language": "python",
   "name": "python3"
  },
  "language_info": {
   "codemirror_mode": {
    "name": "ipython",
    "version": 3
   },
   "file_extension": ".py",
   "mimetype": "text/x-python",
   "name": "python",
   "nbconvert_exporter": "python",
   "pygments_lexer": "ipython3",
   "version": "3.7.3"
  }
 },
 "nbformat": 4,
 "nbformat_minor": 4
}
