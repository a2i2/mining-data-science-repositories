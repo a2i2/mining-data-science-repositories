{
 "cells": [
  {
   "cell_type": "code",
   "execution_count": 40,
   "metadata": {},
   "outputs": [],
   "source": [
    "import numpy as np\n",
    "import pandas as pd\n",
    "import matplotlib.pyplot as plt\n",
    "from scipy import stats\n",
    "from os.path import join"
   ]
  },
  {
   "cell_type": "code",
   "execution_count": 22,
   "metadata": {},
   "outputs": [],
   "source": [
    "SEL_DIR = \"../data/selected\""
   ]
  },
  {
   "cell_type": "code",
   "execution_count": 23,
   "metadata": {},
   "outputs": [],
   "source": [
    "import pathlib\n",
    "pathlib.Path(SEL_DIR).mkdir(parents=True, exist_ok=True) "
   ]
  },
  {
   "cell_type": "code",
   "execution_count": 24,
   "metadata": {},
   "outputs": [],
   "source": [
    "ds = pd.read_csv(\"../data/boa/github_api.csv\", parse_dates=['created_at', 'updated_at', 'pushed_at'])"
   ]
  },
  {
   "cell_type": "code",
   "execution_count": 25,
   "metadata": {},
   "outputs": [],
   "source": [
    "ds = ds.sort_values('created_at', ascending=False) # Most recent first in list"
   ]
  },
  {
   "cell_type": "code",
   "execution_count": 26,
   "metadata": {},
   "outputs": [],
   "source": [
    "nonds = pd.read_csv(\"../data/non-data-science/github_api.csv\", parse_dates=['created_at', 'updated_at', 'pushed_at'])"
   ]
  },
  {
   "cell_type": "code",
   "execution_count": 27,
   "metadata": {},
   "outputs": [],
   "source": [
    "nonds = nonds.sort_values('created_at', ascending=False) # Most recent first in list"
   ]
  },
  {
   "cell_type": "code",
   "execution_count": 28,
   "metadata": {},
   "outputs": [],
   "source": [
    "#ds_sample = ds.sample(n=100) # TODO: set random_state"
   ]
  },
  {
   "cell_type": "code",
   "execution_count": 29,
   "metadata": {},
   "outputs": [],
   "source": [
    "#ds_sample[\"id\"].is_unique"
   ]
  },
  {
   "cell_type": "code",
   "execution_count": 30,
   "metadata": {},
   "outputs": [],
   "source": [
    "#ds_sample[[\"id\"]].to_csv(\"repo_ids_sample_ds.csv\", index=False)"
   ]
  },
  {
   "cell_type": "code",
   "execution_count": 31,
   "metadata": {},
   "outputs": [],
   "source": [
    "# There are too many non-data-science repos to analyse with Pylint. Limit list to recent repos (we further refine this selection in the later-analysis stages)\n",
    "created_thresh = pd.to_datetime('2015-07-01T00:00Z')"
   ]
  },
  {
   "cell_type": "code",
   "execution_count": 32,
   "metadata": {},
   "outputs": [],
   "source": [
    "nonds_sel = nonds[nonds[\"created_at\"] >= created_thresh]"
   ]
  },
  {
   "cell_type": "code",
   "execution_count": 33,
   "metadata": {},
   "outputs": [],
   "source": [
    "#nonds_sel_sample = nonds_sel.sample(n=100) # TODO: set random_state"
   ]
  },
  {
   "cell_type": "code",
   "execution_count": 34,
   "metadata": {},
   "outputs": [],
   "source": [
    "#nonds_sel_sample[\"id\"].is_unique"
   ]
  },
  {
   "cell_type": "code",
   "execution_count": 35,
   "metadata": {},
   "outputs": [],
   "source": [
    "#nonds_sel_sample[[\"id\"]].to_csv(\"repo_ids_sample_nonds.csv\", index=False)"
   ]
  },
  {
   "cell_type": "markdown",
   "metadata": {},
   "source": [
    "Number of repos in each set:"
   ]
  },
  {
   "cell_type": "code",
   "execution_count": 36,
   "metadata": {},
   "outputs": [
    {
     "data": {
      "text/plain": [
       "1552"
      ]
     },
     "execution_count": 36,
     "metadata": {},
     "output_type": "execute_result"
    }
   ],
   "source": [
    "len(ds)"
   ]
  },
  {
   "cell_type": "code",
   "execution_count": 37,
   "metadata": {},
   "outputs": [
    {
     "data": {
      "text/plain": [
       "2511"
      ]
     },
     "execution_count": 37,
     "metadata": {},
     "output_type": "execute_result"
    }
   ],
   "source": [
    "len(nonds_sel)"
   ]
  },
  {
   "cell_type": "markdown",
   "metadata": {},
   "source": [
    "Projects that appear in both sets (ideally shouldn't happen):"
   ]
  },
  {
   "cell_type": "code",
   "execution_count": 38,
   "metadata": {},
   "outputs": [
    {
     "data": {
      "text/plain": [
       "{40857800,\n",
       " 43416021,\n",
       " 45234875,\n",
       " 46626681,\n",
       " 48147779,\n",
       " 57161533,\n",
       " 60129104,\n",
       " 61362743,\n",
       " 61609586,\n",
       " 63605558,\n",
       " 68609247,\n",
       " 70118622,\n",
       " 70908208,\n",
       " 70934951,\n",
       " 71932349,\n",
       " 74622643,\n",
       " 76228721,\n",
       " 77440857,\n",
       " 77765629,\n",
       " 77904282,\n",
       " 79006723,\n",
       " 79404479,\n",
       " 81608592,\n",
       " 81784084,\n",
       " 84209477,\n",
       " 88441301,\n",
       " 90730179,\n",
       " 92446304,\n",
       " 96648397,\n",
       " 100318313,\n",
       " 101607701,\n",
       " 103471501,\n",
       " 103934044,\n",
       " 122806629}"
      ]
     },
     "execution_count": 38,
     "metadata": {},
     "output_type": "execute_result"
    }
   ],
   "source": [
    "set(nonds_sel[\"id\"]) & set(ds[\"id\"])"
   ]
  },
  {
   "cell_type": "markdown",
   "metadata": {},
   "source": [
    "Export Full lists:"
   ]
  },
  {
   "cell_type": "code",
   "execution_count": 41,
   "metadata": {},
   "outputs": [],
   "source": [
    "ds[[\"id\"]].to_csv(join(SEL_DIR, \"repo_ids_full_ds.csv\"), index=False)"
   ]
  },
  {
   "cell_type": "code",
   "execution_count": 42,
   "metadata": {},
   "outputs": [],
   "source": [
    "nonds_sel[[\"id\"]].to_csv(join(SEL_DIR, \"repo_ids_full_nonds.csv\"), index=False)"
   ]
  },
  {
   "cell_type": "markdown",
   "metadata": {},
   "source": [
    "Split lists into manageable chunks:"
   ]
  },
  {
   "cell_type": "code",
   "execution_count": 43,
   "metadata": {},
   "outputs": [],
   "source": [
    "def to_chunks(df, fname, chunksize):\n",
    "    nrows = len(df)\n",
    "    assert nrows < 10**6 # will cause (minor) formatting problems in filename\n",
    "    stops = list(range(0,nrows,chunksize))\n",
    "    for a,b in zip(stops, stops[1:] + [nrows]):\n",
    "        chunk = df.iloc[a:b]\n",
    "        chunk.to_csv(fname + \"_chunk_{:0>6}-{:0>6}.csv\".format(a+1, b), index=False)"
   ]
  },
  {
   "cell_type": "code",
   "execution_count": 44,
   "metadata": {},
   "outputs": [],
   "source": [
    "to_chunks(ds[[\"id\"]], join(SEL_DIR, \"repo_ids_ds\"), chunksize=800)"
   ]
  },
  {
   "cell_type": "code",
   "execution_count": 45,
   "metadata": {},
   "outputs": [],
   "source": [
    "to_chunks(nonds_sel[[\"id\"]], join(SEL_DIR, \"repo_ids_nonds\"), chunksize=800)"
   ]
  },
  {
   "cell_type": "code",
   "execution_count": null,
   "metadata": {},
   "outputs": [],
   "source": []
  }
 ],
 "metadata": {
  "kernelspec": {
   "display_name": "Python 3",
   "language": "python",
   "name": "python3"
  },
  "language_info": {
   "codemirror_mode": {
    "name": "ipython",
    "version": 3
   },
   "file_extension": ".py",
   "mimetype": "text/x-python",
   "name": "python",
   "nbconvert_exporter": "python",
   "pygments_lexer": "ipython3",
   "version": "3.7.6"
  }
 },
 "nbformat": 4,
 "nbformat_minor": 4
}
