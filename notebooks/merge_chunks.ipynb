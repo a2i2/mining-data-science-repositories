{
 "cells": [
  {
   "cell_type": "code",
   "execution_count": 1,
   "metadata": {},
   "outputs": [],
   "source": [
    "import pandas as pd\n",
    "import numpy as np\n",
    "from os import path\n",
    "import pathlib"
   ]
  },
  {
   "cell_type": "code",
   "execution_count": 2,
   "metadata": {},
   "outputs": [],
   "source": [
    "CHUNKS_DIR = \"../output/\"\n",
    "MERGED_DIR = path.join(CHUNKS_DIR, \"merged\")\n",
    "pathlib.Path(MERGED_DIR).mkdir(parents=True, exist_ok=True)"
   ]
  },
  {
   "cell_type": "code",
   "execution_count": 3,
   "metadata": {},
   "outputs": [],
   "source": [
    "DIRS = [\n",
    "    \"ds-chunk11\",\n",
    "    \"ds-chunk13\",\n",
    "    \"nonds-chunk11\",\n",
    "    \"nonds-chunk12\",\n",
    "    \"nonds-chunk13\",\n",
    "    \"nonds-chunk14\"\n",
    "]"
   ]
  },
  {
   "cell_type": "code",
   "execution_count": 4,
   "metadata": {},
   "outputs": [],
   "source": [
    "def merge_data(f):\n",
    "    dfs = []\n",
    "    for d in DIRS:\n",
    "        file = path.join(CHUNKS_DIR, d, f)\n",
    "        print(file)\n",
    "        df = pd.read_csv(file)\n",
    "        dfs.append(df)\n",
    "    return dfs"
   ]
  },
  {
   "cell_type": "code",
   "execution_count": 5,
   "metadata": {},
   "outputs": [
    {
     "name": "stdout",
     "output_type": "stream",
     "text": [
      "../output/ds-chunk11/results_pylint_python3.csv\n",
      "../output/ds-chunk13/results_pylint_python3.csv\n",
      "../output/nonds-chunk11/results_pylint_python3.csv\n",
      "../output/nonds-chunk12/results_pylint_python3.csv\n"
     ]
    },
    {
     "name": "stderr",
     "output_type": "stream",
     "text": [
      "/home/anj/anaconda3/lib/python3.7/site-packages/IPython/core/interactiveshell.py:3254: DtypeWarning: Columns (4) have mixed types.Specify dtype option on import or set low_memory=False.\n",
      "  if (await self.run_code(code, result,  async_=asy)):\n"
     ]
    },
    {
     "name": "stdout",
     "output_type": "stream",
     "text": [
      "../output/nonds-chunk13/results_pylint_python3.csv\n",
      "../output/nonds-chunk14/results_pylint_python3.csv\n"
     ]
    }
   ],
   "source": [
    "dfs = merge_data(\"results_pylint_python3.csv\")"
   ]
  },
  {
   "cell_type": "code",
   "execution_count": 6,
   "metadata": {},
   "outputs": [],
   "source": [
    "merged_df = pd.concat(dfs)"
   ]
  },
  {
   "cell_type": "code",
   "execution_count": 7,
   "metadata": {},
   "outputs": [],
   "source": [
    "merged_df.to_csv(path.join(MERGED_DIR, \"results_pylint_python3.csv\"))"
   ]
  }
 ],
 "metadata": {
  "kernelspec": {
   "display_name": "Python 3",
   "language": "python",
   "name": "python3"
  },
  "language_info": {
   "codemirror_mode": {
    "name": "ipython",
    "version": 3
   },
   "file_extension": ".py",
   "mimetype": "text/x-python",
   "name": "python",
   "nbconvert_exporter": "python",
   "pygments_lexer": "ipython3",
   "version": "3.7.6"
  }
 },
 "nbformat": 4,
 "nbformat_minor": 4
}
