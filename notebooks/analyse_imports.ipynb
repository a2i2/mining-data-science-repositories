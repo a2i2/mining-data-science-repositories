{
 "cells": [
  {
   "cell_type": "code",
   "execution_count": 1,
   "metadata": {},
   "outputs": [],
   "source": [
    "import pandas as pd\n",
    "import numpy as np"
   ]
  },
  {
   "cell_type": "code",
   "execution_count": 2,
   "metadata": {},
   "outputs": [],
   "source": [
    "import altair as alt # Python wrapper for Vega-Lite visualisation grammar"
   ]
  },
  {
   "cell_type": "code",
   "execution_count": 3,
   "metadata": {
    "scrolled": true
   },
   "outputs": [
    {
     "data": {
      "text/html": [
       "<div>\n",
       "<style scoped>\n",
       "    .dataframe tbody tr th:only-of-type {\n",
       "        vertical-align: middle;\n",
       "    }\n",
       "\n",
       "    .dataframe tbody tr th {\n",
       "        vertical-align: top;\n",
       "    }\n",
       "\n",
       "    .dataframe thead th {\n",
       "        text-align: right;\n",
       "    }\n",
       "</style>\n",
       "<table border=\"1\" class=\"dataframe\">\n",
       "  <thead>\n",
       "    <tr style=\"text-align: right;\">\n",
       "      <th></th>\n",
       "      <th>lib</th>\n",
       "      <th>cnt</th>\n",
       "    </tr>\n",
       "  </thead>\n",
       "  <tbody>\n",
       "    <tr>\n",
       "      <th>18</th>\n",
       "      <td>os</td>\n",
       "      <td>72</td>\n",
       "    </tr>\n",
       "    <tr>\n",
       "      <th>15</th>\n",
       "      <td>sys</td>\n",
       "      <td>64</td>\n",
       "    </tr>\n",
       "    <tr>\n",
       "      <th>21</th>\n",
       "      <td>numpy</td>\n",
       "      <td>57</td>\n",
       "    </tr>\n",
       "    <tr>\n",
       "      <th>13</th>\n",
       "      <td>re</td>\n",
       "      <td>56</td>\n",
       "    </tr>\n",
       "    <tr>\n",
       "      <th>6</th>\n",
       "      <td>collections</td>\n",
       "      <td>48</td>\n",
       "    </tr>\n",
       "    <tr>\n",
       "      <th>...</th>\n",
       "      <td>...</td>\n",
       "      <td>...</td>\n",
       "    </tr>\n",
       "    <tr>\n",
       "      <th>274</th>\n",
       "      <td>lime</td>\n",
       "      <td>1</td>\n",
       "    </tr>\n",
       "    <tr>\n",
       "      <th>273</th>\n",
       "      <td>reach</td>\n",
       "      <td>1</td>\n",
       "    </tr>\n",
       "    <tr>\n",
       "      <th>272</th>\n",
       "      <td>blitzdb</td>\n",
       "      <td>1</td>\n",
       "    </tr>\n",
       "    <tr>\n",
       "      <th>271</th>\n",
       "      <td>omesa</td>\n",
       "      <td>1</td>\n",
       "    </tr>\n",
       "    <tr>\n",
       "      <th>601</th>\n",
       "      <td>pysentiment</td>\n",
       "      <td>1</td>\n",
       "    </tr>\n",
       "  </tbody>\n",
       "</table>\n",
       "<p>602 rows × 2 columns</p>\n",
       "</div>"
      ],
      "text/plain": [
       "             lib  cnt\n",
       "18            os   72\n",
       "15           sys   64\n",
       "21         numpy   57\n",
       "13            re   56\n",
       "6    collections   48\n",
       "..           ...  ...\n",
       "274         lime    1\n",
       "273        reach    1\n",
       "272      blitzdb    1\n",
       "271        omesa    1\n",
       "601  pysentiment    1\n",
       "\n",
       "[602 rows x 2 columns]"
      ]
     },
     "execution_count": 3,
     "metadata": {},
     "output_type": "execute_result"
    }
   ],
   "source": [
    "imports_df = pd.read_csv(\"../output/imports-tally.csv\", header=None, names=[\"lib\", \"cnt\"]).sort_values(by = [\"cnt\"], ascending=False)\n",
    "imports_df"
   ]
  },
  {
   "cell_type": "code",
   "execution_count": 4,
   "metadata": {},
   "outputs": [],
   "source": [
    "# list of python modules that appear NLP/ML related imported by 2 or more of the selected projects\n",
    "nlp_libs = [\n",
    "    \"tensorflow\",\n",
    "    \"sklearn\",\n",
    "    \"nltk\",\n",
    "    \"gensim\", # Topic modelling for humans\n",
    "    \"scipy\",\n",
    "    \"keras\",\n",
    "    \"torch\",\n",
    "    \"spacy\", # Industrial-Strength Natural Language Processing\n",
    "    \"jieba\", # Python Chinese word segmentation module\n",
    "    \"torchtext\", # data processing utilities and popular datasets for natural language\n",
    "    \"tensorboardX\", # tensorboard for pytorch (and chainer, mxnet, numpy, ...)\n",
    "    \"text_cnn\", # not on pip, but module was copy-pasted into multiple repos\n",
    "    \"textblob\", # simple API for ... part-of-speech tagging, noun phrase extraction, sentiment analysis, ...\n",
    "    \"pytorch_pretrained_bert\",\n",
    "    \"apex\", # NVIDIA/apex: easy mixed precision and distributed training in Pytorch\n",
    "    \"tflearn\", # higher-level API for TensorFlow\n",
    "    \"frog\", # Python binding to FROG, an NLP suite for Dutch doing part-of-speech tagging, lemmatisation ...\n",
    "    \"theano\", # define, optimize, and evaluate mathematical expressions involving multi-dimensional arrays\n",
    "    \"pymorphy2\", # Morphological analyzer / inflection engine for Russian and Ukrainian languages\n",
    "    \"speech_recognition\" # speech recognition, with support for several engines and APIs, online and offline\n",
    "]"
   ]
  },
  {
   "cell_type": "code",
   "execution_count": 5,
   "metadata": {},
   "outputs": [
    {
     "data": {
      "text/html": [
       "<div>\n",
       "<style scoped>\n",
       "    .dataframe tbody tr th:only-of-type {\n",
       "        vertical-align: middle;\n",
       "    }\n",
       "\n",
       "    .dataframe tbody tr th {\n",
       "        vertical-align: top;\n",
       "    }\n",
       "\n",
       "    .dataframe thead th {\n",
       "        text-align: right;\n",
       "    }\n",
       "</style>\n",
       "<table border=\"1\" class=\"dataframe\">\n",
       "  <thead>\n",
       "    <tr style=\"text-align: right;\">\n",
       "      <th></th>\n",
       "      <th>lib</th>\n",
       "      <th>cnt</th>\n",
       "    </tr>\n",
       "  </thead>\n",
       "  <tbody>\n",
       "    <tr>\n",
       "      <th>20</th>\n",
       "      <td>tensorflow</td>\n",
       "      <td>27</td>\n",
       "    </tr>\n",
       "    <tr>\n",
       "      <th>121</th>\n",
       "      <td>sklearn</td>\n",
       "      <td>25</td>\n",
       "    </tr>\n",
       "    <tr>\n",
       "      <th>85</th>\n",
       "      <td>nltk</td>\n",
       "      <td>16</td>\n",
       "    </tr>\n",
       "    <tr>\n",
       "      <th>148</th>\n",
       "      <td>gensim</td>\n",
       "      <td>13</td>\n",
       "    </tr>\n",
       "    <tr>\n",
       "      <th>136</th>\n",
       "      <td>keras</td>\n",
       "      <td>12</td>\n",
       "    </tr>\n",
       "    <tr>\n",
       "      <th>81</th>\n",
       "      <td>scipy</td>\n",
       "      <td>12</td>\n",
       "    </tr>\n",
       "    <tr>\n",
       "      <th>23</th>\n",
       "      <td>torch</td>\n",
       "      <td>12</td>\n",
       "    </tr>\n",
       "    <tr>\n",
       "      <th>141</th>\n",
       "      <td>spacy</td>\n",
       "      <td>9</td>\n",
       "    </tr>\n",
       "    <tr>\n",
       "      <th>42</th>\n",
       "      <td>jieba</td>\n",
       "      <td>5</td>\n",
       "    </tr>\n",
       "    <tr>\n",
       "      <th>105</th>\n",
       "      <td>tensorboardX</td>\n",
       "      <td>5</td>\n",
       "    </tr>\n",
       "    <tr>\n",
       "      <th>24</th>\n",
       "      <td>torchtext</td>\n",
       "      <td>4</td>\n",
       "    </tr>\n",
       "    <tr>\n",
       "      <th>516</th>\n",
       "      <td>text_cnn</td>\n",
       "      <td>3</td>\n",
       "    </tr>\n",
       "    <tr>\n",
       "      <th>184</th>\n",
       "      <td>apex</td>\n",
       "      <td>2</td>\n",
       "    </tr>\n",
       "    <tr>\n",
       "      <th>365</th>\n",
       "      <td>theano</td>\n",
       "      <td>2</td>\n",
       "    </tr>\n",
       "    <tr>\n",
       "      <th>278</th>\n",
       "      <td>frog</td>\n",
       "      <td>2</td>\n",
       "    </tr>\n",
       "    <tr>\n",
       "      <th>201</th>\n",
       "      <td>tflearn</td>\n",
       "      <td>2</td>\n",
       "    </tr>\n",
       "    <tr>\n",
       "      <th>375</th>\n",
       "      <td>pymorphy2</td>\n",
       "      <td>2</td>\n",
       "    </tr>\n",
       "    <tr>\n",
       "      <th>560</th>\n",
       "      <td>speech_recognition</td>\n",
       "      <td>2</td>\n",
       "    </tr>\n",
       "    <tr>\n",
       "      <th>97</th>\n",
       "      <td>textblob</td>\n",
       "      <td>2</td>\n",
       "    </tr>\n",
       "    <tr>\n",
       "      <th>125</th>\n",
       "      <td>pytorch_pretrained_bert</td>\n",
       "      <td>2</td>\n",
       "    </tr>\n",
       "  </tbody>\n",
       "</table>\n",
       "</div>"
      ],
      "text/plain": [
       "                         lib  cnt\n",
       "20                tensorflow   27\n",
       "121                  sklearn   25\n",
       "85                      nltk   16\n",
       "148                   gensim   13\n",
       "136                    keras   12\n",
       "81                     scipy   12\n",
       "23                     torch   12\n",
       "141                    spacy    9\n",
       "42                     jieba    5\n",
       "105             tensorboardX    5\n",
       "24                 torchtext    4\n",
       "516                 text_cnn    3\n",
       "184                     apex    2\n",
       "365                   theano    2\n",
       "278                     frog    2\n",
       "201                  tflearn    2\n",
       "375                pymorphy2    2\n",
       "560       speech_recognition    2\n",
       "97                  textblob    2\n",
       "125  pytorch_pretrained_bert    2"
      ]
     },
     "execution_count": 5,
     "metadata": {},
     "output_type": "execute_result"
    }
   ],
   "source": [
    "nlp_df = imports_df[imports_df.lib.isin(nlp_libs)]\n",
    "nlp_df"
   ]
  },
  {
   "cell_type": "code",
   "execution_count": 6,
   "metadata": {},
   "outputs": [
    {
     "data": {
      "application/vnd.vegalite.v3+json": {
       "$schema": "https://vega.github.io/schema/vega-lite/v3.4.0.json",
       "config": {
        "mark": {
         "tooltip": null
        },
        "view": {
         "height": 300,
         "width": 400
        }
       },
       "data": {
        "name": "data-ea75cf4120dccad79011829ca3ef6d01"
       },
       "datasets": {
        "data-ea75cf4120dccad79011829ca3ef6d01": [
         {
          "cnt": 27,
          "lib": "tensorflow"
         },
         {
          "cnt": 25,
          "lib": "sklearn"
         },
         {
          "cnt": 16,
          "lib": "nltk"
         },
         {
          "cnt": 13,
          "lib": "gensim"
         },
         {
          "cnt": 12,
          "lib": "keras"
         },
         {
          "cnt": 12,
          "lib": "scipy"
         },
         {
          "cnt": 12,
          "lib": "torch"
         },
         {
          "cnt": 9,
          "lib": "spacy"
         },
         {
          "cnt": 5,
          "lib": "jieba"
         },
         {
          "cnt": 5,
          "lib": "tensorboardX"
         },
         {
          "cnt": 4,
          "lib": "torchtext"
         },
         {
          "cnt": 3,
          "lib": "text_cnn"
         },
         {
          "cnt": 2,
          "lib": "apex"
         },
         {
          "cnt": 2,
          "lib": "theano"
         },
         {
          "cnt": 2,
          "lib": "frog"
         },
         {
          "cnt": 2,
          "lib": "tflearn"
         },
         {
          "cnt": 2,
          "lib": "pymorphy2"
         },
         {
          "cnt": 2,
          "lib": "speech_recognition"
         },
         {
          "cnt": 2,
          "lib": "textblob"
         },
         {
          "cnt": 2,
          "lib": "pytorch_pretrained_bert"
         }
        ]
       },
       "encoding": {
        "x": {
         "field": "cnt",
         "type": "quantitative"
        },
        "y": {
         "field": "lib",
         "sort": {
          "order": "descending"
         },
         "type": "nominal"
        }
       },
       "mark": "bar"
      },
      "image/png": "[encoded data removed]",
      "text/plain": [
       "<VegaLite 3 object>\n",
       "\n",
       "If you see this message, it means the renderer has not been properly enabled\n",
       "for the frontend that you are using. For more information, see\n",
       "https://altair-viz.github.io/user_guide/troubleshooting.html\n"
      ]
     },
     "execution_count": 6,
     "metadata": {},
     "output_type": "execute_result"
    }
   ],
   "source": [
    "alt.Chart(nlp_df).mark_bar().encode(\n",
    "    x = 'cnt',\n",
    "    y = alt.Y('lib', sort=alt.EncodingSortField(order=\"descending\")),\n",
    ")"
   ]
  },
  {
   "cell_type": "code",
   "execution_count": null,
   "metadata": {},
   "outputs": [],
   "source": []
  }
 ],
 "metadata": {
  "kernelspec": {
   "display_name": "Python 3",
   "language": "python",
   "name": "python3"
  },
  "language_info": {
   "codemirror_mode": {
    "name": "ipython",
    "version": 3
   },
   "file_extension": ".py",
   "mimetype": "text/x-python",
   "name": "python",
   "nbconvert_exporter": "python",
   "pygments_lexer": "ipython3",
   "version": "3.7.3"
  }
 },
 "nbformat": 4,
 "nbformat_minor": 4
}
