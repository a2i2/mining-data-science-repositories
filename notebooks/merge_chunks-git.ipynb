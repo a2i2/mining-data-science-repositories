{
 "cells": [
  {
   "cell_type": "code",
   "execution_count": 1,
   "metadata": {},
   "outputs": [],
   "source": [
    "import pandas as pd\n",
    "import numpy as np\n",
    "from os import path\n",
    "import pathlib"
   ]
  },
  {
   "cell_type": "code",
   "execution_count": 2,
   "metadata": {},
   "outputs": [],
   "source": [
    "CHUNKS_DIR = \"../output/\"\n",
    "MERGED_DIR = path.join(CHUNKS_DIR, \"merged\")\n",
    "pathlib.Path(MERGED_DIR).mkdir(parents=True, exist_ok=True)"
   ]
  },
  {
   "cell_type": "code",
   "execution_count": 3,
   "metadata": {},
   "outputs": [],
   "source": [
    "DS_DIRS = [\n",
    "    \"ds-t7\"\n",
    "]\n",
    "NON_DS_DIRS = [\n",
    "    \"nonds-t7\"\n",
    "]"
   ]
  },
  {
   "cell_type": "code",
   "execution_count": 4,
   "metadata": {},
   "outputs": [],
   "source": [
    "ds_ids = set(pd.read_csv(\"../data/boa/github_api.csv\")[\"id\"])\n",
    "\n",
    "def merge_data(f):\n",
    "    dfs = []\n",
    "    for d in DS_DIRS:\n",
    "        file = path.join(CHUNKS_DIR, d, f)\n",
    "        print(file)\n",
    "        df = pd.read_csv(file)\n",
    "        dfs.append(df)\n",
    "    for d in NON_DS_DIRS:\n",
    "        file = path.join(CHUNKS_DIR, d, f)\n",
    "        print(file)\n",
    "        df = pd.read_csv(file)\n",
    "        df = df[~df[\"repo\"].isin(ds_ids)] # remove dups\n",
    "        dfs.append(df)\n",
    "    return pd.concat(dfs)"
   ]
  },
  {
   "cell_type": "code",
   "execution_count": 5,
   "metadata": {},
   "outputs": [
    {
     "name": "stdout",
     "output_type": "stream",
     "text": [
      "../output/ds-t7/results_git_date.csv\n",
      "../output/nonds-t7/results_git_date.csv\n"
     ]
    }
   ],
   "source": [
    "merged_df = merge_data(\"results_git_date.csv\")"
   ]
  },
  {
   "cell_type": "code",
   "execution_count": 6,
   "metadata": {},
   "outputs": [],
   "source": [
    "merged_df.to_csv(path.join(MERGED_DIR, \"results_git_date.csv\"), index=False)"
   ]
  }
 ],
 "metadata": {
  "kernelspec": {
   "display_name": "Python 3",
   "language": "python",
   "name": "python3"
  },
  "language_info": {
   "codemirror_mode": {
    "name": "ipython",
    "version": 3
   },
   "file_extension": ".py",
   "mimetype": "text/x-python",
   "name": "python",
   "nbconvert_exporter": "python",
   "pygments_lexer": "ipython3",
   "version": "3.7.6"
  }
 },
 "nbformat": 4,
 "nbformat_minor": 4
}
